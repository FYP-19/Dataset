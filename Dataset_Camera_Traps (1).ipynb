{
  "cells": [
    {
      "cell_type": "markdown",
      "metadata": {
        "id": "4_6ojS5lmCi9"
      },
      "source": []
    },
    {
      "cell_type": "code",
      "execution_count": null,
      "metadata": {
        "id": "SAq2Xr8fCk6d",
        "colab": {
          "base_uri": "https://localhost:8080/"
        },
        "outputId": "a7fa3fd4-efa0-4f4b-bdc8-cbdfcbe1fc04"
      },
      "outputs": [
        {
          "output_type": "stream",
          "name": "stdout",
          "text": [
            "Mounted at /content/drive\n"
          ]
        }
      ],
      "source": [
        "from google.colab import drive\n",
        "drive.mount('/content/drive')"
      ]
    },
    {
      "cell_type": "code",
      "execution_count": null,
      "metadata": {
        "colab": {
          "base_uri": "https://localhost:8080/"
        },
        "id": "FwWcA7GLbCUX",
        "outputId": "ea981138-cac1-468c-8edc-390ea35c640c"
      },
      "outputs": [
        {
          "output_type": "stream",
          "name": "stdout",
          "text": [
            "Number of images in the folder: 24562\n"
          ]
        }
      ],
      "source": [
        "import os\n",
        "import glob\n",
        "\n",
        "file_extension_pattern = '*.jpg'  # You can change the extension as needed\n",
        "image_files = glob.glob(os.path.join('/content/drive/MyDrive/sumatran_seroww/swg', file_extension_pattern))\n",
        "image_count = len(image_files)\n",
        "\n",
        "print(f\"Number of images in the folder: {image_count}\")"
      ]
    },
    {
      "cell_type": "markdown",
      "metadata": {
        "id": "2DZ8pjZWmH0W"
      },
      "source": [
        "#LILA Camera Traps: A Valuable Wildlife Image Datasets\n",
        "\"LILA Camera Traps\" is a valuable collection of images captured by camera traps, which are automated devices designed to take pictures of wildlife using motion detection technology. This dataset serves as a valuable resource for ecological research.\n",
        "\n",
        "Dataset Resource:  https://lila.science/datasets\n",
        "\n"
      ]
    },
    {
      "cell_type": "code",
      "execution_count": null,
      "metadata": {
        "colab": {
          "base_uri": "https://localhost:8080/"
        },
        "id": "TmmplDrZi2za",
        "outputId": "c8333daf-abb6-40a9-9d7d-9db4d2a49792"
      },
      "outputs": [
        {
          "output_type": "stream",
          "name": "stdout",
          "text": [
            "Collecting datasets\n",
            "  Downloading datasets-2.16.1-py3-none-any.whl (507 kB)\n",
            "\u001b[2K     \u001b[90m━━━━━━━━━━━━━━━━━━━━━━━━━━━━━━━━━━━━━━━━\u001b[0m \u001b[32m507.1/507.1 kB\u001b[0m \u001b[31m5.3 MB/s\u001b[0m eta \u001b[36m0:00:00\u001b[0m\n",
            "\u001b[?25hRequirement already satisfied: filelock in /usr/local/lib/python3.10/dist-packages (from datasets) (3.13.1)\n",
            "Requirement already satisfied: numpy>=1.17 in /usr/local/lib/python3.10/dist-packages (from datasets) (1.23.5)\n",
            "Requirement already satisfied: pyarrow>=8.0.0 in /usr/local/lib/python3.10/dist-packages (from datasets) (10.0.1)\n",
            "Requirement already satisfied: pyarrow-hotfix in /usr/local/lib/python3.10/dist-packages (from datasets) (0.6)\n",
            "Collecting dill<0.3.8,>=0.3.0 (from datasets)\n",
            "  Downloading dill-0.3.7-py3-none-any.whl (115 kB)\n",
            "\u001b[2K     \u001b[90m━━━━━━━━━━━━━━━━━━━━━━━━━━━━━━━━━━━━━━━━\u001b[0m \u001b[32m115.3/115.3 kB\u001b[0m \u001b[31m12.0 MB/s\u001b[0m eta \u001b[36m0:00:00\u001b[0m\n",
            "\u001b[?25hRequirement already satisfied: pandas in /usr/local/lib/python3.10/dist-packages (from datasets) (1.5.3)\n",
            "Requirement already satisfied: requests>=2.19.0 in /usr/local/lib/python3.10/dist-packages (from datasets) (2.31.0)\n",
            "Requirement already satisfied: tqdm>=4.62.1 in /usr/local/lib/python3.10/dist-packages (from datasets) (4.66.1)\n",
            "Requirement already satisfied: xxhash in /usr/local/lib/python3.10/dist-packages (from datasets) (3.4.1)\n",
            "Collecting multiprocess (from datasets)\n",
            "  Downloading multiprocess-0.70.15-py310-none-any.whl (134 kB)\n",
            "\u001b[2K     \u001b[90m━━━━━━━━━━━━━━━━━━━━━━━━━━━━━━━━━━━━━━━━\u001b[0m \u001b[32m134.8/134.8 kB\u001b[0m \u001b[31m11.1 MB/s\u001b[0m eta \u001b[36m0:00:00\u001b[0m\n",
            "\u001b[?25hRequirement already satisfied: fsspec[http]<=2023.10.0,>=2023.1.0 in /usr/local/lib/python3.10/dist-packages (from datasets) (2023.6.0)\n",
            "Requirement already satisfied: aiohttp in /usr/local/lib/python3.10/dist-packages (from datasets) (3.9.1)\n",
            "Requirement already satisfied: huggingface-hub>=0.19.4 in /usr/local/lib/python3.10/dist-packages (from datasets) (0.20.2)\n",
            "Requirement already satisfied: packaging in /usr/local/lib/python3.10/dist-packages (from datasets) (23.2)\n",
            "Requirement already satisfied: pyyaml>=5.1 in /usr/local/lib/python3.10/dist-packages (from datasets) (6.0.1)\n",
            "Requirement already satisfied: attrs>=17.3.0 in /usr/local/lib/python3.10/dist-packages (from aiohttp->datasets) (23.2.0)\n",
            "Requirement already satisfied: multidict<7.0,>=4.5 in /usr/local/lib/python3.10/dist-packages (from aiohttp->datasets) (6.0.4)\n",
            "Requirement already satisfied: yarl<2.0,>=1.0 in /usr/local/lib/python3.10/dist-packages (from aiohttp->datasets) (1.9.4)\n",
            "Requirement already satisfied: frozenlist>=1.1.1 in /usr/local/lib/python3.10/dist-packages (from aiohttp->datasets) (1.4.1)\n",
            "Requirement already satisfied: aiosignal>=1.1.2 in /usr/local/lib/python3.10/dist-packages (from aiohttp->datasets) (1.3.1)\n",
            "Requirement already satisfied: async-timeout<5.0,>=4.0 in /usr/local/lib/python3.10/dist-packages (from aiohttp->datasets) (4.0.3)\n",
            "Requirement already satisfied: typing-extensions>=3.7.4.3 in /usr/local/lib/python3.10/dist-packages (from huggingface-hub>=0.19.4->datasets) (4.5.0)\n",
            "Requirement already satisfied: charset-normalizer<4,>=2 in /usr/local/lib/python3.10/dist-packages (from requests>=2.19.0->datasets) (3.3.2)\n",
            "Requirement already satisfied: idna<4,>=2.5 in /usr/local/lib/python3.10/dist-packages (from requests>=2.19.0->datasets) (3.6)\n",
            "Requirement already satisfied: urllib3<3,>=1.21.1 in /usr/local/lib/python3.10/dist-packages (from requests>=2.19.0->datasets) (2.0.7)\n",
            "Requirement already satisfied: certifi>=2017.4.17 in /usr/local/lib/python3.10/dist-packages (from requests>=2.19.0->datasets) (2023.11.17)\n",
            "Requirement already satisfied: python-dateutil>=2.8.1 in /usr/local/lib/python3.10/dist-packages (from pandas->datasets) (2.8.2)\n",
            "Requirement already satisfied: pytz>=2020.1 in /usr/local/lib/python3.10/dist-packages (from pandas->datasets) (2023.3.post1)\n",
            "Requirement already satisfied: six>=1.5 in /usr/local/lib/python3.10/dist-packages (from python-dateutil>=2.8.1->pandas->datasets) (1.16.0)\n",
            "Installing collected packages: dill, multiprocess, datasets\n",
            "Successfully installed datasets-2.16.1 dill-0.3.7 multiprocess-0.70.15\n"
          ]
        }
      ],
      "source": [
        "!pip install datasets"
      ]
    },
    {
      "cell_type": "code",
      "execution_count": null,
      "metadata": {
        "colab": {
          "base_uri": "https://localhost:8080/",
          "height": 339,
          "referenced_widgets": [
            "677195b715f54fedb537de0a6cbf97db",
            "8e46aae855ca4b00a853783900143974",
            "dfceb49bcefa4c0a9cf55191a9b725e9",
            "e3fe8d3ca9d84fd0b79b4cb3a832430e",
            "46f8b398673643c5a4c085586e1508c6",
            "7632b8b1464f42b3b8a9eef9ec9cc732",
            "153e323ec6f74224a5df6a0048918e8b",
            "17cae5832eb446d38cfc6fd55de1863e",
            "04d1902a5a7f4a89b7011bc3efedf720",
            "1f72a16180484afab1484350a51dd053",
            "2600032013124548a43c0ad5b52af946",
            "542d27b384eb46f2bf030bc7540bba32",
            "07a019effc614227986165f6b21f127e",
            "f594a0fff7d14f9ca60b68c1a1c72e90",
            "725b0809e016478ba5ed510784110ca1",
            "8511d907f4f645ae828589ccb26437b1",
            "55ae3041e49e4686ba4f565d95d01f35",
            "b022c3f963c447bb9af5d0aa1e52406c",
            "30b78add245447d391b6e6ba99f8e217",
            "ee17d05fb5f2417dba3ad5c8d2cecc83",
            "292920eeb30d4861a9d7dba0f47c6d2c",
            "4c8d31ce616f43c1a876f345224109de",
            "cf32d22d002d474d976e7e0d9552d4fd",
            "4dacf6cc4a1b4201b75d31658aa429c0",
            "f5c478006f844666b39e3ea45d1659a3",
            "7743390705ef4723a124dddd24538c5a",
            "411b1b83c3414aebb0fe6beffe1fb224",
            "b39f4a1cc66b400ea6801e45f443b0af",
            "fbb9b74f64e74247a41e24127e80938d",
            "842b69556c4142cea864c3e26657b64f",
            "2421e2b9badd4d1e97964ea40e0fd802",
            "0a9370632d6b495dbcdcd5134d5ddc0c",
            "f431c1a6025e4a04a1867520de538704",
            "ff1abc68e5ac4fcfad5ff5f42c03f768",
            "b46c9e54d15f4f91ad8374d0ab69833c",
            "fba092f587824e4da99012a7eda04cea",
            "5eb5a47815c84c00aa72dc6a9b3a4efa",
            "e429e87757cb4d8dbf8832fdb3c5ec78",
            "5e94f1fd415d4e0294740adccb90b15c",
            "1476bfd300bb440986ba3c67a15bec39",
            "330192249dc242b19700ba7c5518d63a",
            "0afde4e143824065a68edd7a05fa0b5b",
            "47cdb991522142d8af847d84e0240f91",
            "9becbbae29784dfb9db8217201fbc0f4"
          ]
        },
        "id": "SEWCK5sGPdPH",
        "outputId": "11b476ca-6183-4744-ab1e-cd5d959f11a5"
      },
      "outputs": [
        {
          "output_type": "stream",
          "name": "stderr",
          "text": [
            "/usr/local/lib/python3.10/dist-packages/huggingface_hub/utils/_token.py:88: UserWarning: \n",
            "The secret `HF_TOKEN` does not exist in your Colab secrets.\n",
            "To authenticate with the Hugging Face Hub, create a token in your settings tab (https://huggingface.co/settings/tokens), set it as secret in your Google Colab and restart your session.\n",
            "You will be able to reuse this secret in all of your notebooks.\n",
            "Please note that authentication is recommended but still optional to access public models or datasets.\n",
            "  warnings.warn(\n",
            "/usr/local/lib/python3.10/dist-packages/datasets/load.py:1429: FutureWarning: The repository for society-ethics/lila_camera_traps contains custom code which must be executed to correctly load the dataset. You can inspect the repository content at https://hf.co/datasets/society-ethics/lila_camera_traps\n",
            "You can avoid this message in future by passing the argument `trust_remote_code=True`.\n",
            "Passing `trust_remote_code=True` will be mandatory to load this dataset from the next major release of `datasets`.\n",
            "  warnings.warn(\n"
          ]
        },
        {
          "output_type": "display_data",
          "data": {
            "text/plain": [
              "Downloading builder script:   0%|          | 0.00/52.3k [00:00<?, ?B/s]"
            ],
            "application/vnd.jupyter.widget-view+json": {
              "version_major": 2,
              "version_minor": 0,
              "model_id": "677195b715f54fedb537de0a6cbf97db"
            }
          },
          "metadata": {}
        },
        {
          "output_type": "display_data",
          "data": {
            "text/plain": [
              "Downloading readme:   0%|          | 0.00/35.9k [00:00<?, ?B/s]"
            ],
            "application/vnd.jupyter.widget-view+json": {
              "version_major": 2,
              "version_minor": 0,
              "model_id": "542d27b384eb46f2bf030bc7540bba32"
            }
          },
          "metadata": {}
        },
        {
          "output_type": "display_data",
          "data": {
            "text/plain": [
              "Downloading data:   0%|          | 0.00/36.1M [00:00<?, ?B/s]"
            ],
            "application/vnd.jupyter.widget-view+json": {
              "version_major": 2,
              "version_minor": 0,
              "model_id": "cf32d22d002d474d976e7e0d9552d4fd"
            }
          },
          "metadata": {}
        },
        {
          "output_type": "display_data",
          "data": {
            "text/plain": [
              "Generating train split: 0 examples [00:00, ? examples/s]"
            ],
            "application/vnd.jupyter.widget-view+json": {
              "version_major": 2,
              "version_minor": 0,
              "model_id": "ff1abc68e5ac4fcfad5ff5f42c03f768"
            }
          },
          "metadata": {}
        }
      ],
      "source": [
        "from datasets import concatenate_datasets\n",
        "from datasets import load_dataset\n",
        "# caltech = load_dataset(\"society-ethics/lila_camera_traps\", \"Caltech Camera Traps\", split=\"train\").flatten()\n",
        "# missouri = load_dataset(\"society-ethics/lila_camera_traps\", \"Missouri Camera Traps\", split=\"train\").flatten()\n",
        "# ENA24 = load_dataset(\"society-ethics/lila_camera_traps\", \"ENA24\", split=\"train\").flatten()\n",
        "# idaho = load_dataset(\"society-ethics/lila_camera_traps\", \"Idaho Camera Traps\", split=\"train\").flatten()\n",
        "# island = load_dataset(\"society-ethics/lila_camera_traps\", \"Island Conservation Camera Traps\", split=\"train\").flatten()\n",
        "# NACTI = load_dataset(\"society-ethics/lila_camera_traps\", \"NACTI\", split=\"train\").flatten()\n",
        "# # orinoquia  = load_dataset(\"society-ethics/lila_camera_traps\", \"Orinoquia Camera Traps\", split=\"train\").flatten()\n",
        "# # snapCamdeboo = load_dataset(\"society-ethics/lila_camera_traps\", \"Snapshot Camdeboo\", split=\"train\").flatten()\n",
        "# # snapEnonkishu = load_dataset(\"society-ethics/lila_camera_traps\", \"Snapshot Enonkishu\", split=\"train\").flatten()\n",
        "# wcs = load_dataset(\"society-ethics/lila_camera_traps\", \"WCS Camera Traps\", split=\"train\").flatten()\n",
        "swg = load_dataset(\"society-ethics/lila_camera_traps\", \"SWG Camera Traps\", split=\"train\").flatten()\n",
        "# snapSerengeti = load_dataset(\"society-ethics/lila_camera_traps\", \"Snapshot Serengeti\", split=\"train\").flatten()\n",
        "# # snapMountZebra = load_dataset(\"society-ethics/lila_camera_traps\", \"Snapshot Mountain Zebra\", split=\"train\").flatten()\n",
        "# # snapKruger = load_dataset(\"society-ethics/lila_camera_traps\", \"Snapshot Kruger\", split=\"train\").flatten()\n",
        "# # snapKgalagadi = load_dataset(\"society-ethics/lila_camera_traps\", \"Snapshot Kgalagadi\", split=\"train\").flatten()\n",
        "# # snapKaroo = load_dataset(\"society-ethics/lila_camera_traps\", \"Snapshot Karoo\", split=\"train\").flatten()\n",
        "# wellington = load_dataset(\"society-ethics/lila_camera_traps\", \"Wellington Camera Traps\", split=\"train\").flatten()\n",
        "\n"
      ]
    },
    {
      "cell_type": "code",
      "execution_count": null,
      "metadata": {
        "id": "B1Fz5gCouUx7"
      },
      "outputs": [],
      "source": [
        "keep_cols = [\"file_name\" ,\"image\", \"annotations.taxonomy\"]\n",
        "\n",
        "# caltech = caltech.remove_columns([col for col in caltech.column_names if col not in keep_cols])\n",
        "# missouri = missouri.remove_columns([col for col in missouri.column_names if col not in keep_cols])\n",
        "# ENA24 = ENA24.remove_columns([col for col in ENA24.column_names if col not in keep_cols])\n",
        "# idaho = idaho.remove_columns([col for col in idaho.column_names if col not in keep_cols])\n",
        "# island = island.remove_columns([col for col in island.column_names if col not in keep_cols])\n",
        "# NACTI = NACTI.remove_columns([col for col in NACTI.column_names if col not in keep_cols])\n",
        "# orinoquia  = orinoquia.remove_columns([col for col in orinoquia.column_names if col not in keep_cols])\n",
        "# snapCamdeboo = snapCamdeboo.remove_columns([col for col in snapCamdeboo .column_names if col not in keep_cols])\n",
        "# snapEnonkishu = snapEnonkishu.remove_columns([col for col in snapEnonkishu.column_names if col not in keep_cols])\n",
        "# wcs = wcs.remove_columns([col for col in wcs.column_names if col not in keep_cols])\n",
        "swg = swg.remove_columns([col for col in swg.column_names if col not in keep_cols])\n",
        "# snapSerengeti = snapSerengeti.remove_columns([col for col in snapSerengeti.column_names if col not in keep_cols])\n",
        "# snapMountZebra = snapMountZebra.remove_columns([col for col in snapMountZebra.column_names if col not in keep_cols])\n",
        "# snapKruger =snapKruger.remove_columns([col for col in snapKruger.column_names if col not in keep_cols])\n",
        "# snapKgalagadi = snapKgalagadi.remove_columns([col for col in snapKgalagadi.column_names if col not in keep_cols])\n",
        "# snapKaroo = snapKaroo.remove_columns([col for col in snapKaroo.column_names if col not in keep_cols])\n",
        "# wellington = wellington.remove_columns([col for col in wellington.column_names if col not in keep_cols])"
      ]
    },
    {
      "cell_type": "code",
      "execution_count": null,
      "metadata": {
        "colab": {
          "base_uri": "https://localhost:8080/",
          "height": 175
        },
        "id": "eluPW6fh4p3D",
        "outputId": "5dcd0eb0-7c18-4f45-a49e-c73214475d52"
      },
      "outputs": [
        {
          "ename": "NameError",
          "evalue": "name 'caltech' is not defined",
          "output_type": "error",
          "traceback": [
            "\u001b[0;31m---------------------------------------------------------------------------\u001b[0m",
            "\u001b[0;31mNameError\u001b[0m                                 Traceback (most recent call last)",
            "\u001b[0;32m<ipython-input-5-06d3ee8dc1ff>\u001b[0m in \u001b[0;36m<cell line: 1>\u001b[0;34m()\u001b[0m\n\u001b[0;32m----> 1\u001b[0;31m \u001b[0mcaltech\u001b[0m\u001b[0;34m.\u001b[0m\u001b[0mshape\u001b[0m\u001b[0;34m\u001b[0m\u001b[0;34m\u001b[0m\u001b[0m\n\u001b[0m",
            "\u001b[0;31mNameError\u001b[0m: name 'caltech' is not defined"
          ]
        }
      ],
      "source": [
        "caltech.shape\n"
      ]
    },
    {
      "cell_type": "code",
      "execution_count": null,
      "metadata": {
        "id": "TdPguz2L7OEm"
      },
      "outputs": [],
      "source": [
        "print(caltech)\n"
      ]
    },
    {
      "cell_type": "code",
      "execution_count": null,
      "metadata": {
        "id": "kVe_F9HPDzs8"
      },
      "outputs": [],
      "source": [
        "print(caltech.features.type)"
      ]
    },
    {
      "cell_type": "markdown",
      "metadata": {
        "id": "JVwksKM0QgRK"
      },
      "source": [
        "Set the Caltech Image dataset to check whether each dataset have similar features."
      ]
    },
    {
      "cell_type": "code",
      "execution_count": null,
      "metadata": {
        "id": "LDBvXiFuQp70"
      },
      "outputs": [],
      "source": [
        "def feature_checker(dataset):\n",
        "  assert caltech.features.type == dataset.features.type"
      ]
    },
    {
      "cell_type": "code",
      "execution_count": null,
      "metadata": {
        "colab": {
          "base_uri": "https://localhost:8080/",
          "height": 245
        },
        "id": "0Mem05VgSDjK",
        "outputId": "53afb1bb-5939-452c-8590-812ff0185889"
      },
      "outputs": [
        {
          "ename": "NameError",
          "evalue": "ignored",
          "output_type": "error",
          "traceback": [
            "\u001b[0;31m---------------------------------------------------------------------------\u001b[0m",
            "\u001b[0;31mNameError\u001b[0m                                 Traceback (most recent call last)",
            "\u001b[0;32m<ipython-input-48-f844dbd4f660>\u001b[0m in \u001b[0;36m<cell line: 1>\u001b[0;34m()\u001b[0m\n\u001b[0;32m----> 1\u001b[0;31m \u001b[0mfeature_checker\u001b[0m\u001b[0;34m(\u001b[0m\u001b[0mmissouri\u001b[0m\u001b[0;34m)\u001b[0m\u001b[0;34m\u001b[0m\u001b[0;34m\u001b[0m\u001b[0m\n\u001b[0m\u001b[1;32m      2\u001b[0m \u001b[0mfeature_checker\u001b[0m\u001b[0;34m(\u001b[0m\u001b[0mENA24\u001b[0m\u001b[0;34m)\u001b[0m\u001b[0;34m\u001b[0m\u001b[0;34m\u001b[0m\u001b[0m\n\u001b[1;32m      3\u001b[0m \u001b[0;31m# feature_checker(idaho)\u001b[0m\u001b[0;34m\u001b[0m\u001b[0;34m\u001b[0m\u001b[0m\n\u001b[1;32m      4\u001b[0m \u001b[0;31m# feature_checker(island)\u001b[0m\u001b[0;34m\u001b[0m\u001b[0;34m\u001b[0m\u001b[0m\n\u001b[1;32m      5\u001b[0m \u001b[0;31m# feature_checker(NACTI)\u001b[0m\u001b[0;34m\u001b[0m\u001b[0;34m\u001b[0m\u001b[0m\n",
            "\u001b[0;31mNameError\u001b[0m: name 'feature_checker' is not defined"
          ]
        }
      ],
      "source": [
        "feature_checker(missouri)\n",
        "feature_checker(ENA24)\n",
        "# feature_checker(idaho)\n",
        "# feature_checker(island)\n",
        "# feature_checker(NACTI)\n",
        "# feature_checker(orinoquia)\n",
        "\n"
      ]
    },
    {
      "cell_type": "code",
      "execution_count": null,
      "metadata": {
        "id": "rU5h7qBBTFsP"
      },
      "outputs": [],
      "source": [
        "# lila_dataset = concatenate_datasets([caltech, missouri,ENA24,idaho,island,NACTI,orinoquia])\n",
        "lila_dataset = concatenate_datasets([swg])\n"
      ]
    },
    {
      "cell_type": "markdown",
      "metadata": {
        "id": "_YsXNGXYk_UN"
      },
      "source": [
        "## Working with Taxonomies\n",
        "\n",
        "To simplify querying, we have added a JSON file that maps common names to the LILA Camera Traps taxonomy levels. This file can be downloaded with `pandas.read_json`, and you can then use it to filter datasets by common names. In the example below, we filter the concatenated dataset from the previous cells (`lila_dataset`) to search for \"white-tailed deer\"."
      ]
    },
    {
      "cell_type": "code",
      "execution_count": null,
      "metadata": {
        "colab": {
          "base_uri": "https://localhost:8080/"
        },
        "id": "HvRcmss_0eZJ",
        "outputId": "9d3760a2-7029-43a4-e3d4-71b75c4716c9"
      },
      "outputs": [
        {
          "output_type": "stream",
          "name": "stdout",
          "text": [
            "{'file_name': Value(dtype='string', id=None), 'annotations.taxonomy': [{'kingdom': ClassLabel(names=['animalia'], id=None), 'phylum': ClassLabel(names=['chordata', 'arthropoda'], id=None), 'subphylum': ClassLabel(names=['vertebrata', 'hexapoda', 'crustacea', 'chelicerata', 'myriapoda'], id=None), 'superclass': ClassLabel(names=['multicrustacea'], id=None), 'class': ClassLabel(names=['mammalia', 'aves', 'insecta', 'reptilia', 'malacostraca', 'arachnida', 'diplopoda', 'amphibia'], id=None), 'subclass': ClassLabel(names=['theria', 'pterygota', 'eumalacostraca'], id=None), 'infraclass': ClassLabel(names=['placentalia', 'marsupialia'], id=None), 'superorder': ClassLabel(names=['laurasiatheria', 'euarchontoglires', 'eucarida', 'xenarthra', 'afrotheria'], id=None), 'order': ClassLabel(names=['carnivora', 'chiroptera', 'artiodactyla', 'squamata', 'didelphimorphia', 'lagomorpha', 'rodentia', 'primates', 'passeriformes', 'galliformes', 'perissodactyla', 'accipitriformes', 'caprimulgiformes', 'lepidoptera', 'strigiformes', 'piciformes', 'falconiformes', 'charadriiformes', 'decapoda', 'columbiformes', 'pelecaniformes', 'procellariiformes', 'gruiformes', 'testudines', 'araneae', 'tinamiformes', 'cingulata', 'coraciiformes', 'hymenoptera', 'pilosa', 'cathartiformes', 'tubulidentata', 'otidiformes', 'struthioniformes', 'proboscidea', 'crocodylia', 'pholidota', 'scandentia', 'trogoniformes', 'bucerotiformes', 'anseriformes', 'eulipotyphla', 'psittaciformes', 'cuculiformes', 'ciconiiformes', 'musophagiformes', 'hyracoidea', 'eurypygiformes', 'afrosoricida', 'galbuliformes', 'macroscelidea', 'anura', 'rheiformes'], id=None), 'suborder': ClassLabel(names=['ruminantia', 'suina', 'sciuromorpha', 'haplorhini', 'hystricomorpha', 'pleocyemata', 'sauria', 'myomorpha', 'castorimorpha', 'apocrita', 'vermilingua', 'anomaluromorpha', 'whippomorpha', 'serpentes', 'tylopoda', 'strepsirrhini', 'tenrecomorpha'], id=None), 'infraorder': ClassLabel(names=['simiiformes', 'hystricognathi', 'brachyura', 'anomura', 'aculeata', 'ancodonta', 'chiromyiformes', 'lemuriformes', 'lorisiformes'], id=None), 'superfamily': ClassLabel(names=['hominoidea', 'erethizontoidea', 'paguroidea', 'muroidea', 'chelonioidea', 'cavioidea', 'formicoidea', 'octodontoidea', 'lemuroidea', 'chinchilloidea', 'cheirogaleoidea', 'papilionoidea'], id=None), 'family': ClassLabel(names=['mustelidae', 'felidae', 'bovidae', 'canidae', 'cervidae', 'didelphidae', 'suidae', 'leporidae', 'procyonidae', 'mephitidae', 'sciuridae', 'hominidae', 'ursidae', 'corvidae', 'phasianidae', 'equidae', 'turdidae', 'accipitridae', 'trochilidae', 'erethizontidae', 'antilocapridae', 'sittidae', 'parulidae', 'cardinalidae', 'picidae', 'falconidae', 'strigidae', 'laridae', 'columbidae', 'ardeidae', 'calcinidae', 'iguanidae', 'megapodiidae', 'mimidae', 'varanidae', 'procellariidae', 'rallidae', 'muridae', 'phocidae', 'hydrobatidae', 'dasyproctidae', 'tayassuidae', 'tinamidae', 'cuniculidae', 'odontophoridae', 'dasypodidae', 'passerellidae', 'troglodytidae', 'cricetidae', 'geomyidae', 'momotidae', 'formicidae', 'caviidae', 'cracidae', 'myrmecophagidae', 'chlamyphoridae', 'tapiridae', 'cebidae', 'pitheciidae', 'cathartidae', 'atelidae', 'caprimulgidae', 'orycteropodidae', 'hyaenidae', 'cercopithecidae', 'otididae', 'gruidae', 'viverridae', 'pedetidae', 'herpestidae', 'struthionidae', 'hystricidae', 'sagittariidae', 'testudinidae', 'elephantidae', 'giraffidae', 'hippopotamidae', 'rhinocerotidae', 'crocodylidae', 'numididae', 'manidae', 'irenidae', 'echimyidae', 'pittidae', 'leiothrichidae', 'muscicapidae', 'tragulidae', 'scolopacidae', 'hylobatidae', 'timaliidae', 'stenostiridae', 'tupaiidae', 'trogonidae', 'bucerotidae', 'prionodontidae', 'acrocephalidae', 'pycnonotidae', 'anatidae', 'anhimidae', 'anomaluridae', 'aramidae', 'erinaceidae', 'brachypteraciidae', 'threskiornithidae', 'psittacidae', 'buphagidae', 'burhinidae', 'camelidae', 'sarothruridae', 'cuculidae', 'ciconiidae', 'furnariidae', 'cisticolidae', 'apodidae', 'musophagidae', 'nesomyidae', 'eupleridae', 'daubentoniidae', 'procaviidae', 'dicaeidae', 'dicruridae', 'lemuridae', 'laniidae', 'vangidae', 'eurypygidae', 'formicariidae', 'galagidae', 'grallariidae', 'charadriidae', 'tenrecidae', 'scotocercidae', 'chinchillidae', 'sturnidae', 'malaconotidae', 'macrosphenidae', 'cheirogaleidae', 'alaudidae', 'icteridae', 'bucconidae', 'motacillidae', 'nandiniidae', 'nectariniidae', 'estrildidae', 'bernieridae', 'alligatoridae', 'macroscelididae', 'ploceidae', 'indriidae', 'psophiidae', 'ramphastidae', 'ranidae', 'rheidae', 'spalacidae', 'scincidae', 'soricidae', 'monarchidae', 'thryonomyidae', 'teiidae', 'tytonidae'], id=None), 'subfamily': ClassLabel(names=['taxidiinae', 'felinae', 'bovinae', 'capreolinae', 'didelphinae', 'suinae', 'sciurinae', 'homininae', 'ursinae', 'xerinae', 'mephitinae', 'antilopinae', 'cervinae', 'mustelinae', 'guloninae', 'erethizontinae', 'sterninae', 'ardeinae', 'murinae', 'lutrinae', 'melinae', 'neotominae', 'hydrochoerinae', 'tigriornithinae', 'tolypeutinae', 'pantherinae', 'cebinae', 'callicebinae', 'alouattinae', 'saimiriinae', 'protelinae', 'cercopithecinae', 'genettinae', 'mungotinae', 'herpestinae', 'ictonychinae', 'hyaeninae', 'mellivorinae', 'echimyinae', 'paradoxurinae', 'ratufinae', 'helictidinae', 'colobinae', 'viverrinae', 'hemigalinae', 'callosciurinae', 'erinaceinae', 'atelinae', 'camelinae', 'caviinae', 'furnariinae', 'criniferinae', 'cricetomyinae', 'euplerinae', 'deomyinae', 'nesomyinae', 'euphractinae', 'galidiinae', 'tenrecinae', 'oryzorictinae', 'musophaginae', 'myadinae', 'macroscelidinae', 'rhizomyinae', 'rhynchocyoninae', 'scincinae', 'crocidurinae', 'tremarctinae', 'tupinambinae'], id=None), 'tribe': ClassLabel(names=['bovini', 'odocoileini', 'didelphini', 'suini', 'sciurini', 'tamiini', 'marmotini', 'caprini', 'cervini', 'alceini', 'rattini', 'capreolini', 'apodemini', 'reithrodontomyini', 'neotomini', 'papionini', 'alcelaphini', 'potamochoerini', 'cephalophini', 'tragelaphini', 'hippotragini', 'oreotragini', 'cercopithecini', 'reduncini', 'antilopini', 'aepycerotini', 'phacochoerini', 'xerini', 'echimyini', 'pteromyini', 'presbytini', 'muntiacini', 'callosciurini', 'camelini', 'colobini', 'praomyini', 'protoxerini', 'arvicanthini', 'malacomyini', 'metachirini', 'murini', 'neotragini', 'macroscelidini', 'myocastorini', 'rhizomyini', 'lamini'], id=None), 'genus': ClassLabel(names=['taxidea', 'lynx', 'felis', 'bos', 'canis', 'odocoileus', 'urocyon', 'puma', 'didelphis', 'sus', 'procyon', 'sciurus', 'homo', 'ursus', 'corvus', 'gallus', 'tamias', 'sylvilagus', 'equus', 'vulpes', 'mephitis', 'meleagris', 'marmota', 'ovis', 'sialia', 'nucifraga', 'cervus', 'mustela', 'pekania', 'neogale', 'pica', 'alces', 'erethizon', 'antilocapra', 'sitta', 'ixoreus', 'piranga', 'falco', 'strix', 'anous', 'athene', 'nasua', 'capra', 'ardea', 'butorides', 'calcinus', 'iguana', 'caloenas', 'rattus', 'calonectris', 'asio', 'hydrobates', 'zenaida', 'nyctanassa', 'turdus', 'dasyprocta', 'pecari', 'lepus', 'tinamus', 'leopardus', 'cuniculus', 'mazama', 'tamiasciurus', 'capreolus', 'apodemus', 'callipepla', 'cyanocitta', 'dasypus', 'dendragapus', 'junco', 'lontra', 'martes', 'meles', 'otospermophilus', 'perisoreus', 'troglodytes', 'peromyscus', 'neotoma', 'momotus', 'speothos', 'hydrochoerus', 'cerdocyon', 'mitu', 'tigrisoma', 'myrmecophaga', 'priodontes', 'pteronura', 'panthera', 'herpailurus', 'tapirus', 'sapajus', 'plecturocebus', 'tamandua', 'penelope', 'eira', 'cathartes', 'alouatta', 'saimiri', 'tayassu', 'orycteropus', 'proteles', 'papio', 'damaliscus', 'syncerus', 'potamochoerus', 'ardeotis', 'caracal', 'anthropoides', 'sylvicapra', 'tragelaphus', 'dama', 'otocyon', 'oryx', 'genetta', 'pedetes', 'alcelaphus', 'lupulella', 'oreotragus', 'suricata', 'herpestes', 'cynictis', 'chlorocebus', 'struthio', 'hystrix', 'redunca', 'pelea', 'sagittarius', 'antidorcas', 'raphicerus', 'connochaetes', 'ictonyx', 'acinonyx', 'madoqua', 'cephalophus', 'loxodonta', 'nanger', 'eudorcas', 'giraffa', 'hippopotamus', 'crocuta', 'aepyceros', 'ourebia', 'phacochoerus', 'kobus', 'neotis', 'parahyaena', 'bunolagus', 'diceros', 'mellivora', 'crocodylus', 'pronolagus', 'hippotragus', 'leptailurus', 'lycaon', 'xerus', 'ceratotherium', 'hyaena', 'nesolagus', 'irena', 'atherurus', 'macaca', 'dactylomys', 'hydrornis', 'macropygia', 'varanus', 'arctictis', 'ratufa', 'pterorhinus', 'cinclidium', 'myophonus', 'moschiola', 'capricornis', 'cissa', 'paradoxurus', 'urva', 'rheinardia', 'spilornis', 'chalcophaps', 'scolopax', 'melogale', 'enicurus', 'trachypithecus', 'petaurista', 'cyanoderma', 'catopuma', 'garrulax', 'culicicapa', 'polyplectron', 'arctonyx', 'muntiacus', 'viverra', 'erythrogenys', 'prionailurus', 'picus', 'pardofelis', 'paguma', 'nisaetus', 'ducula', 'tupaia', 'harpactes', 'geokichla', 'chrotogale', 'callosciurus', 'manis', 'dremomys', 'pygathrix', 'trochalopteron', 'ianthocincla', 'aceros', 'rusa', 'zoothera', 'leiothrix', 'lophura', 'prionodon', 'helarctos', 'pitta', 'tamiops', 'myiomela', 'urocissa', 'accipiter', 'acrocephalus', 'acryllium', 'agamia', 'alectoris', 'chamaetylas', 'alophoixus', 'alopochen', 'stelgidillas', 'eurillas', 'anhima', 'anomalurus', 'aonyx', 'aquila', 'aramides', 'aramus', 'arborophila', 'arctogalidia', 'ardeola', 'argusianus', 'arremonops', 'atelerix', 'ateles', 'atelocynus', 'atelornis', 'atilax', 'balearica', 'bambusicola', 'baryphthengus', 'bdeogale', 'blastocerus', 'bostrychia', 'brachypteracias', 'brotogeris', 'bubo', 'bubulcus', 'buphagus', 'burhinus', 'butastur', 'buteo', 'buteogallus', 'bycanistes', 'cabassous', 'cairina', 'caloperdix', 'camelus', 'mentocrex', 'caprimulgus', 'caracara', 'carpococcyx', 'hylocichla', 'catharus', 'cavia', 'cebus', 'cercocebus', 'cercopithecus', 'allochrocebus', 'cercotrichas', 'ortalis', 'chelonoidis', 'ciconia', 'cinclodes', 'circus', 'cisticola', 'civettictis', 'claravis', 'cochlearius', 'coendou', 'collocalia', 'colobus', 'colomys', 'columba', 'columbina', 'conepatus', 'copsychus', 'coragyps', 'corythaixoides', 'cossypha', 'coturnix', 'coua', 'crax', 'cricetomys', 'cryptoprocta', 'crypturellus', 'cuon', 'cyanoptila', 'cyornis', 'daptrius', 'daubentonia', 'dendrocitta', 'dendrohyrax', 'ortygornis', 'deomys', 'dicaeum', 'dicerorhinus', 'dicrurus', 'melaenornis', 'egretta', 'elephas', 'eliurus', 'larvivora', 'erythrocebus', 'eulemur', 'euphractus', 'eupleres', 'eupodotis', 'eurocephalus', 'euryceros', 'eurypyga', 'eutriorchis', 'ficedula', 'formicarius', 'fossa', 'scleroptila', 'pternistis', 'francolinus', 'funisciurus', 'galago', 'galictis', 'galidia', 'galidictis', 'geotrygon', 'grallaria', 'guttera', 'haliaeetus', 'vanellus', 'harpia', 'heliosciurus', 'helogale', 'hemicentetes', 'hemigalus', 'urosphena', 'heterohyrax', 'hippocamelus', 'hybomys', 'hylomyscus', 'hylopetes', 'hypogeomys', 'ichneumia', 'arundinax', 'jynx', 'lagidium', 'lamprotornis', 'laniarius', 'lanius', 'lariscus', 'lemur', 'leptotila', 'lissotis', 'litocranius', 'lophotibis', 'lutreolina', 'lycalopex', 'malacomys', 'melierax', 'melocichla', 'mesembrinibis', 'chloropicus', 'metachirus', 'micrastur', 'microcebus', 'microgale', 'microsciurus', 'mirafra', 'molothrus', 'monasa', 'morphnus', 'motacilla', 'mungos', 'mus', 'musophaga', 'mydaus', 'myoprocta', 'mystacornis', 'nandinia', 'cyanomitra', 'oressochen', 'neocossyphus', 'neofelis', 'neomorphus', 'delacourella', 'streptopelia', 'nesomys', 'nesotragus', 'niltava', 'nothocrax', 'numida', 'nyctidromus', 'odontophorus', 'oenomys', 'oenanthe', 'otolemur', 'otus', 'oxylabes', 'paleosuchus', 'pan', 'paraxerus', 'pernis', 'petrodromus', 'phaethornis', 'philander', 'philantomba', 'pilherodius', 'xanthomixis', 'pipile', 'ploceus', 'poecilogale', 'pogonocichla', 'potos', 'praomys', 'presbytis', 'procavia', 'piliocolobus', 'proechimys', 'propithecus', 'protoxerus', 'psophia', 'pteroglossus', 'ramphastos', 'rana', 'rhea', 'rhizomys', 'rhynchocyon', 'rollulus', 'rupornis', 'ruwenzorornis', 'salanoia', 'saxicola', 'setifer', 'sheppardia', 'plestiodon', 'spilogale', 'spizaetus', 'stephanoaetus', 'stigmochelys', 'amazona', 'suncus', 'sundasciurus', 'tauraco', 'tenrec', 'terpsiphone', 'thamnomys', 'thryonomys', 'tockus', 'tolypeutes', 'tragulus', 'tremarctos', 'trichys', 'tupinambis', 'turtur', 'tyto', 'vicugna', 'viverricula', 'xenoperdix', 'euxerus', 'zonotrichia', 'erinaceus'], id=None), 'species': ClassLabel(names=['taxidea taxus', 'lynx rufus', 'felis catus', 'bos taurus', 'canis latrans', 'canis familiaris', 'urocyon cinereoargenteus', 'puma concolor', 'didelphis virginiana', 'sus scrofa', 'procyon lotor', 'urocyon littoralis', 'homo sapiens', 'ursus americanus', 'corvus brachyrhynchos', 'gallus gallus', 'tamias striatus', 'sylvilagus floridanus', 'sciurus niger', 'sciurus carolinensis', 'equus caballus', 'vulpes vulpes', 'mephitis mephitis', 'odocoileus virginianus', 'meleagris gallopavo', 'marmota monax', 'ovis canadensis', 'nucifraga columbiana', 'cervus canadensis', 'mustela erminea', 'pekania pennanti', 'neogale frenata', 'pica hudsonia', 'alces alces', 'erethizon dorsatum', 'antilocapra americana', 'corvus corax', 'sitta canadensis', 'ixoreus naevius', 'piranga ludoviciana', 'canis lupus', 'falco sparverius', 'strix varia', 'anous stolidus', 'athene cunicularia', 'nasua nasua', 'equus asinus', 'capra hircus', 'ardea herodias', 'butorides virescens', 'calcinus tubularis', 'falco tinnunculus', 'caloenas nicobarica', 'asio flammeus', 'hydrobates pelagicus', 'zenaida asiatica', 'nyctanassa violacea', 'dasyprocta coibae', 'pecari tajacu', 'didelphis marsupialis', 'lepus europaeus', 'tinamus major', 'ovis ammon', 'leopardus pardalis', 'mazama americana', 'cervus elaphus', 'tamiasciurus hudsonicus', 'rattus praetor', 'nasua narica', 'apodemus sylvaticus', 'callipepla californica', 'cyanocitta stelleri', 'dasypus novemcinctus', 'dendragapus obscurus', 'equus africanus', 'equus ferus', 'junco hyemalis', 'lepus americanus', 'lepus californicus', 'lontra canadensis', 'marmota flaviventris', 'martes americana', 'meles meles', 'odocoileus hemionus', 'otospermophilus beecheyi', 'perisoreus canadensis', 'rattus rattus', 'troglodytes aedon', 'zenaida macroura', 'momotus momota', 'dasyprocta fuliginosa', 'speothos venaticus', 'hydrochoerus hydrochaeris', 'iguana iguana', 'cerdocyon thous', 'mitu tomentosum', 'tigrisoma fasciatum', 'myrmecophaga tridactyla', 'priodontes maximus', 'pteronura brasiliensis', 'panthera onca', 'herpailurus yagouaroundi', 'tapirus terrestris', 'sapajus apella', 'leopardus wiedii', 'lontra longicaudis', 'sciurus igniventris', 'dasyprocta guamara', 'plecturocebus ornatus', 'mitu salvini', 'tamandua tetradactyla', 'penelope jacquacu', 'cuniculus paca', 'eira barbara', 'cathartes aura', 'penelope jacucaca', 'tayassu pecari', 'orycteropus afer', 'proteles cristatus', 'damaliscus pygargus', 'syncerus caffer', 'potamochoerus larvatus', 'ardeotis kori', 'caracal caracal', 'anthropoides paradiseus', 'sylvicapra grimmia', 'tragelaphus oryx', 'dama dama', 'otocyon megalotis', 'oryx gazella', 'lepus saxatilis', 'pedetes capensis', 'alcelaphus buselaphus', 'lupulella mesomelas', 'oreotragus oreotragus', 'tragelaphus strepsiceros', 'suricata suricatta', 'herpestes ichneumon', 'cynictis penicillata', 'chlorocebus pygerythrus', 'struthio camelus', 'hystrix africaeaustralis', 'redunca fulvorufula', 'pelea capreolus', 'sagittarius serpentarius', 'antidorcas marsupialis', 'raphicerus campestris', 'connochaetes gnou', 'equus zebra', 'ictonyx striatus', 'tragelaphus scriptus', 'acinonyx jubatus', 'loxodonta africana', 'nanger granti', 'eudorcas thomsonii', 'giraffa camelopardalis', 'lepus victoriae', 'hippopotamus amphibius', 'crocuta crocuta', 'aepyceros melampus', 'panthera pardus', 'panthera leo', 'ourebia ourebi', 'hystrix cristata', 'damaliscus lunatus', 'phacochoerus africanus', 'kobus ellipsiprymnus', 'connochaetes taurinus', 'equus quagga', 'neotis ludwigii', 'vulpes chama', 'parahyaena brunnea', 'herpestes pulverulentus', 'bunolagus monticularis', 'diceros bicornis', 'felis lybica', 'lepus capensis', 'mellivora capensis', 'crocodylus niloticus', 'cephalophus natalensis', 'lupulella adusta', 'tragelaphus angasii', 'pronolagus randensis', 'hippotragus equinus', 'leptailurus serval', 'lycaon pictus', 'ceratotherium simum', 'hyaena hyaena', 'nesolagus timminsi', 'irena puella', 'ursus thibetanus', 'atherurus macrourus', 'mustela strigidorsa', 'hydrornis elliotii', 'macropygia unchall', 'varanus bengalensis', 'arctictis binturong', 'ratufa bicolor', 'pterorhinus chinensis', 'cinclidium frontale', 'hydrornis cyaneus', 'myophonus caeruleus', 'strix leptogrammica', 'moschiola meminna', 'capricornis sumatraensis', 'cissa chinensis', 'paradoxurus hermaphroditus', 'urva urva', 'rheinardia ocellata', 'spilornis cheela', 'chalcophaps indica', 'scolopax rusticola', 'turdus obscurus', 'trachypithecus francoisi', 'cyanoderma chrysaeum', 'catopuma temminckii', 'garrulax maesi', 'culicicapa ceylonensis', 'polyplectron bicalcaratum', 'trachypithecus hatinhensis', 'arctonyx collaris', 'cissa hypoleuca', 'turdus cardis', 'muntiacus vuquangensis', 'viverra zibetha', 'erythrogenys hypoleucos', 'prionailurus bengalensis', 'picus chlorolophus', 'hystrix brachyura', 'pardofelis marmorata', 'paguma larvata', 'nisaetus nipalensis', 'ducula badia', 'pterorhinus pectoralis', 'tupaia belangeri', 'harpactes oreskios', 'geokichla citrina', 'chrotogale owstoni', 'callosciurus erythraeus', 'trachypithecus phayrei', 'macaca nemestrina', 'dremomys rufigenis', 'picus rabieri', 'muntiacus muntjak', 'pygathrix nemaeus', 'trochalopteron milnei', 'muntiacus rooseveltorum', 'garrulax castanotis', 'ianthocincla konkakinhensis', 'aceros nipalensis', 'rusa unicolor', 'zoothera dauma', 'geokichla sibirica', 'leiothrix argentauris', 'lophura nycthemera', 'prionodon pardicolor', 'butorides striata', 'macaca arctoides', 'helarctos malayanus', 'enicurus leschenaulti', 'myiomela leucura', 'urocissa whiteheadi', 'mustela kathiah', 'martes flavigula', 'accipiter madagascariensis', 'accipiter melanoleucus', 'acrocephalus baeticatus', 'acryllium vulturinum', 'agamia agami', 'alectoris rufa', 'chamaetylas poliophrys', 'alophoixus bres', 'alopochen aegyptiaca', 'alouatta sara', 'stelgidillas gracilirostris', 'eurillas latirostris', 'eurillas virens', 'anhima cornuta', 'anomalurus derbianus', 'aonyx cinereus', 'aquila heliaca', 'aquila rapax', 'aramides cajaneus', 'aramus guarauna', 'arborophila brunneopectus', 'arborophila rubrirostris', 'arborophila rufogularis', 'arctogalidia trivirgata', 'arctonyx hoevenii', 'ardea alba', 'ardea cocoi', 'ardea melanocephala', 'ardeola grayii', 'argusianus argus', 'arremonops chloronotus', 'asio madagascariensis', 'atelerix albiventris', 'ateles chamek', 'atelocynus microtis', 'atelornis pittoides', 'atherurus africanus', 'atilax paludinosus', 'balearica regulorum', 'bambusicola fytchii', 'baryphthengus martii', 'bdeogale crassicauda', 'bdeogale jacksoni', 'blastocerus dichotomus', 'bos gaurus', 'bostrychia hagedash', 'brachypteracias squamiger', 'bubulcus ibis', 'burhinus capensis', 'butastur indicus', 'buteo ridgwayi', 'buteogallus urubitinga', 'bycanistes brevis', 'cabassous centralis', 'cabassous unicinctus', 'cairina moschata', 'callosciurus notatus', 'caloperdix oculeus', 'camelus dromedarius', 'mentocrex kioloides', 'capra aegagrus', 'caracara plancus', 'carpococcyx renauldi', 'cathartes burrovianus', 'cathartes melambrotus', 'hylocichla mustelina', 'catharus ustulatus', 'cavia aperea', 'cebus albifrons', 'cephalophus harveyi', 'cephalophus nigrifrons', 'cephalophus silvicultor', 'cephalophus spadix', 'cercocebus sanjei', 'cercopithecus erythrogaster', 'allochrocebus lhoesti', 'cercopithecus mitis', 'ortalis vetula', 'chelonoidis carbonarius', 'ciconia maguari', 'cinclodes atacamensis', 'cinclodes fuscus', 'circus cyaneus', 'cisticola cherina', 'civettictis civetta', 'claravis pretiosa', 'cochlearius cochlearius', 'coendou bicolor', 'collocalia linchi', 'colobus angolensis', 'colomys goslingi', 'columba arquatrix', 'columba larvata', 'columbina talpacoti', 'conepatus chinga', 'conepatus semistriatus', 'copsychus albospecularis', 'copsychus malabaricus', 'copsychus saularis', 'coragyps atratus', 'corythaixoides leucogaster', 'cossypha archeri', 'coturnix delegorguei', 'coua caerulea', 'coua ruficeps', 'coua serriana', 'crax alector', 'crax rubra', 'cricetomys gambianus', 'cryptoprocta ferox', 'crypturellus atrocapillus', 'crypturellus boucardi', 'crypturellus cinereus', 'crypturellus cinnamomeus', 'crypturellus erythropus', 'crypturellus bartletti', 'crypturellus soui', 'crypturellus undulatus', 'crypturellus variegatus', 'cuniculus taczanowskii', 'cuon alpinus', 'cyanoptila cyanomelana', 'cyornis banyumas', 'daptrius ater', 'dasyprocta punctata', 'dasyprocta leporina', 'dasypus kappleri', 'daubentonia madagascariensis', 'dendrocitta occipitalis', 'dendrohyrax arboreus', 'ortygornis sephaena', 'deomys ferrugineus', 'dicaeum trigonostigma', 'dicerorhinus sumatrensis', 'dicrurus adsimilis', 'didelphis imperfecta', 'didelphis pernigra', 'melaenornis fischeri', 'egretta thula', 'elephas maximus', 'eliurus penicillatus', 'eliurus petteri', 'eliurus webbi', 'enicurus schistaceus', 'equus grevyi', 'larvivora cyane', 'erythrocebus patas', 'eudorcas rufifrons', 'eulemur albifrons', 'euphractus sexcinctus', 'eupleres goudotii', 'eupodotis senegalensis', 'eurocephalus ruppelli', 'euryceros prevostii', 'eurypyga helias', 'eutriorchis astur', 'felis chaus', 'felis silvestris', 'ficedula mugimaki', 'ficedula tricolor', 'formicarius analis', 'formicarius colma', 'fossa fossana', 'scleroptila afra', 'pternistis nobilis', 'funisciurus carruthersi', 'funisciurus pyrropus', 'galago senegalensis', 'galictis vittata', 'galidia elegans', 'galidictis fasciata', 'genetta genetta', 'genetta maculata', 'genetta servalina', 'genetta tigrina', 'geokichla gurneyi', 'geotrygon montana', 'geotrygon saphirina', 'grallaria andicolus', 'guttera pucherani', 'haliaeetus vociferoides', 'vanellus cayanus', 'harpia harpyja', 'buteogallus solitarius', 'heliosciurus rufobrachium', 'heliosciurus ruwenzorii', 'helogale parvula', 'hemicentetes semispinosus', 'hemigalus derbyanus', 'urosphena neumanni', 'herpestes sanguineus', 'urva semitorquata', 'heterohyrax brucei', 'hippocamelus antisensis', 'hybomys univittatus', 'hydrornis oatesi', 'hylomyscus stella', 'hylopetes alboniger', 'hypogeomys antimena', 'ichneumia albicauda', 'arundinax aedon', 'jynx torquilla', 'lagidium viscacia', 'lamprotornis chalybaeus', 'lamprotornis hildebrandti', 'lamprotornis superbus', 'laniarius funebris', 'lanius collaris', 'lariscus insignis', 'leopardus tigrinus', 'leptotila plumbeiceps', 'leptotila rufaxilla', 'leptotila verreauxi', 'lissotis hartlaubii', 'lissotis melanogaster', 'litocranius walleri', 'lophotibis cristata', 'eupodotis gindiana', 'lophura diardi', 'lophura erythrophthalma', 'lophura ignita', 'lophura inornata', 'lutreolina crassicaudata', 'lycalopex culpaeus', 'macaca assamensis', 'macaca fascicularis', 'macaca mulatta', 'madoqua guentheri', 'malacomys longipes', 'manis javanica', 'mazama temama', 'mazama chunyi', 'mazama gouazoubira', 'odocoileus pandora', 'melaenornis ardesiacus', 'melaenornis pammelaina', 'meleagris ocellata', 'melierax poliopterus', 'melocichla mentalis', 'melogale everetti', 'melogale personata', 'mesembrinibis cayennensis', 'chloropicus griseocephalus', 'metachirus nudicaudatus', 'microcebus murinus', 'microsciurus flaviventer', 'microsciurus mimulus', 'mitu tuberosum', 'molothrus oryzivorus', 'monasa morphoeus', 'morphnus guianensis', 'motacilla flava', 'motacilla flaviventris', 'mungos mungo', 'mus minutoides', 'musophaga rossae', 'mustela lutreolina', 'mydaus javanensis', 'myophonus glaucinus', 'myophonus melanurus', 'myoprocta pratti', 'mystacornis crossleyi', 'nandinia binotata', 'cyanomitra cyanolaema', 'oressochen jubatus', 'neocossyphus rufus', 'neofelis diardi', 'neofelis nebulosa', 'neomorphus geoffroyi', 'neomorphus rufipennis', 'delacourella capistrata', 'streptopelia picturata', 'nesolagus netscheri', 'nesomys audeberti', 'nesotragus moschatus', 'caprimulgus europaeus', 'niltava sumatrana', 'nisaetus nanus', 'nothocrax urumutum', 'numida meleagris', 'nyctidromus albicollis', 'odontophorus balliviani', 'odontophorus erythrops', 'odontophorus gujanensis', 'oenomys hypoxanthus', 'ortalis guttata', 'oryx beisa', 'otolemur garnettii', 'otus spilocephalus', 'ovis aries', 'oxylabes madagascariensis', 'pan troglodytes', 'panthera tigris', 'papio anubis', 'papio cynocephalus', 'paraxerus boehmi', 'paraxerus cepapi', 'paraxerus lucifer', 'paraxerus ochraceus', 'paraxerus vexillarius', 'penelope purpurascens', 'penelope superciliaris', 'pernis ptilorhynchus', 'petrodromus tetradactylus', 'philander opossum', 'philantomba monticola', 'pilherodius pileatus', 'xanthomixis apperti', 'pipile cumanensis', 'pipile pipile', 'hydrornis guajanus', 'hydrornis schneideri', 'ploceus alienus', 'ploceus baglafecht', 'poecilogale albinucha', 'pogonocichla stellata', 'polyplectron chalcurum', 'erythrogenys mcclellandi', 'potos flavus', 'praomys tullbergi', 'presbytis femoralis', 'presbytis thomasi', 'prionodon linsang', 'procavia capensis', 'piliocolobus gordonorum', 'procyon cancrivorus', 'propithecus candidus', 'protoxerus stangeri', 'psophia crepitans', 'psophia leucoptera', 'pternistis hildebrandti', 'pternistis leucoscepus', 'pteroglossus beauharnaisii', 'ramphastos tucanus', 'rattus tiomanicus', 'rhea americana', 'rhizomys sumatrensis', 'rhynchocyon cirnei', 'rhynchocyon petersi', 'rhynchocyon udzungwensis', 'rollulus rouloul', 'rupornis magnirostris', 'ruwenzorornis johnstoni', 'saimiri boliviensis', 'salanoia concolor', 'saxicola tectes', 'sciurus deppei', 'sciurus granatensis', 'sciurus ignitus', 'sciurus spadiceus', 'setifer setosus', 'sheppardia lowei', 'spilogale putorius', 'spizaetus ornatus', 'stephanoaetus coronatus', 'stigmochelys pardalis', 'streptopelia capicola', 'streptopelia lugens', 'streptopelia senegalensis', 'amazona oratrix', 'suncus murinus', 'sundasciurus hippurus', 'sus barbatus', 'sylvilagus brasiliensis', 'tamandua mexicana', 'tapirus bairdii', 'tapirus indicus', 'tauraco livingstonii', 'tenrec ecaudatus', 'terpsiphone mutata', 'thamnomys venustus', 'thryonomys gregorianus', 'thryonomys swinderianus', 'tigrisoma lineatum', 'tigrisoma mexicanum', 'tinamus guttatus', 'tinamus tao', 'tockus deckeni', 'tockus flavirostris', 'tolypeutes matacus', 'tragelaphus imberbis', 'tragulus javanicus', 'tragulus kanchil', 'tragulus napu', 'tremarctos ornatus', 'trichys fasciculata', 'tupaia glis', 'tupinambis teguixin', 'turdus ignobilis', 'turdus olivaceus', 'turdus tephronotus', 'turtur chalcospilos', 'turtur tympanistria', 'tyto alba', 'vanellus coronatus', 'varanus salvator', 'vicugna pacos', 'viverricula indica', 'xenoperdix udzungwensis', 'euxerus erythropus', 'xerus rutilus', 'zonotrichia capensis', 'erinaceus europaeus', 'rattus norvegicus'], id=None), 'subspecies': ClassLabel(names=['sciurus niger cinereus', 'alces alces americanus', 'sapajus apella margaritae', 'damaliscus pygargus phillipsi', 'alcelaphus buselaphus caama', 'damaliscus lunatus jimela', 'equus quagga burchellii', 'zoothera dauma dauma'], id=None), 'variety': ClassLabel(names=['gallus gallus domesticus'], id=None)}], 'image': Value(dtype='string', id=None)}\n",
            "[{'kingdom': ClassLabel(names=['animalia'], id=None), 'phylum': ClassLabel(names=['chordata', 'arthropoda'], id=None), 'subphylum': ClassLabel(names=['vertebrata', 'hexapoda', 'crustacea', 'chelicerata', 'myriapoda'], id=None), 'superclass': ClassLabel(names=['multicrustacea'], id=None), 'class': ClassLabel(names=['mammalia', 'aves', 'insecta', 'reptilia', 'malacostraca', 'arachnida', 'diplopoda', 'amphibia'], id=None), 'subclass': ClassLabel(names=['theria', 'pterygota', 'eumalacostraca'], id=None), 'infraclass': ClassLabel(names=['placentalia', 'marsupialia'], id=None), 'superorder': ClassLabel(names=['laurasiatheria', 'euarchontoglires', 'eucarida', 'xenarthra', 'afrotheria'], id=None), 'order': ClassLabel(names=['carnivora', 'chiroptera', 'artiodactyla', 'squamata', 'didelphimorphia', 'lagomorpha', 'rodentia', 'primates', 'passeriformes', 'galliformes', 'perissodactyla', 'accipitriformes', 'caprimulgiformes', 'lepidoptera', 'strigiformes', 'piciformes', 'falconiformes', 'charadriiformes', 'decapoda', 'columbiformes', 'pelecaniformes', 'procellariiformes', 'gruiformes', 'testudines', 'araneae', 'tinamiformes', 'cingulata', 'coraciiformes', 'hymenoptera', 'pilosa', 'cathartiformes', 'tubulidentata', 'otidiformes', 'struthioniformes', 'proboscidea', 'crocodylia', 'pholidota', 'scandentia', 'trogoniformes', 'bucerotiformes', 'anseriformes', 'eulipotyphla', 'psittaciformes', 'cuculiformes', 'ciconiiformes', 'musophagiformes', 'hyracoidea', 'eurypygiformes', 'afrosoricida', 'galbuliformes', 'macroscelidea', 'anura', 'rheiformes'], id=None), 'suborder': ClassLabel(names=['ruminantia', 'suina', 'sciuromorpha', 'haplorhini', 'hystricomorpha', 'pleocyemata', 'sauria', 'myomorpha', 'castorimorpha', 'apocrita', 'vermilingua', 'anomaluromorpha', 'whippomorpha', 'serpentes', 'tylopoda', 'strepsirrhini', 'tenrecomorpha'], id=None), 'infraorder': ClassLabel(names=['simiiformes', 'hystricognathi', 'brachyura', 'anomura', 'aculeata', 'ancodonta', 'chiromyiformes', 'lemuriformes', 'lorisiformes'], id=None), 'superfamily': ClassLabel(names=['hominoidea', 'erethizontoidea', 'paguroidea', 'muroidea', 'chelonioidea', 'cavioidea', 'formicoidea', 'octodontoidea', 'lemuroidea', 'chinchilloidea', 'cheirogaleoidea', 'papilionoidea'], id=None), 'family': ClassLabel(names=['mustelidae', 'felidae', 'bovidae', 'canidae', 'cervidae', 'didelphidae', 'suidae', 'leporidae', 'procyonidae', 'mephitidae', 'sciuridae', 'hominidae', 'ursidae', 'corvidae', 'phasianidae', 'equidae', 'turdidae', 'accipitridae', 'trochilidae', 'erethizontidae', 'antilocapridae', 'sittidae', 'parulidae', 'cardinalidae', 'picidae', 'falconidae', 'strigidae', 'laridae', 'columbidae', 'ardeidae', 'calcinidae', 'iguanidae', 'megapodiidae', 'mimidae', 'varanidae', 'procellariidae', 'rallidae', 'muridae', 'phocidae', 'hydrobatidae', 'dasyproctidae', 'tayassuidae', 'tinamidae', 'cuniculidae', 'odontophoridae', 'dasypodidae', 'passerellidae', 'troglodytidae', 'cricetidae', 'geomyidae', 'momotidae', 'formicidae', 'caviidae', 'cracidae', 'myrmecophagidae', 'chlamyphoridae', 'tapiridae', 'cebidae', 'pitheciidae', 'cathartidae', 'atelidae', 'caprimulgidae', 'orycteropodidae', 'hyaenidae', 'cercopithecidae', 'otididae', 'gruidae', 'viverridae', 'pedetidae', 'herpestidae', 'struthionidae', 'hystricidae', 'sagittariidae', 'testudinidae', 'elephantidae', 'giraffidae', 'hippopotamidae', 'rhinocerotidae', 'crocodylidae', 'numididae', 'manidae', 'irenidae', 'echimyidae', 'pittidae', 'leiothrichidae', 'muscicapidae', 'tragulidae', 'scolopacidae', 'hylobatidae', 'timaliidae', 'stenostiridae', 'tupaiidae', 'trogonidae', 'bucerotidae', 'prionodontidae', 'acrocephalidae', 'pycnonotidae', 'anatidae', 'anhimidae', 'anomaluridae', 'aramidae', 'erinaceidae', 'brachypteraciidae', 'threskiornithidae', 'psittacidae', 'buphagidae', 'burhinidae', 'camelidae', 'sarothruridae', 'cuculidae', 'ciconiidae', 'furnariidae', 'cisticolidae', 'apodidae', 'musophagidae', 'nesomyidae', 'eupleridae', 'daubentoniidae', 'procaviidae', 'dicaeidae', 'dicruridae', 'lemuridae', 'laniidae', 'vangidae', 'eurypygidae', 'formicariidae', 'galagidae', 'grallariidae', 'charadriidae', 'tenrecidae', 'scotocercidae', 'chinchillidae', 'sturnidae', 'malaconotidae', 'macrosphenidae', 'cheirogaleidae', 'alaudidae', 'icteridae', 'bucconidae', 'motacillidae', 'nandiniidae', 'nectariniidae', 'estrildidae', 'bernieridae', 'alligatoridae', 'macroscelididae', 'ploceidae', 'indriidae', 'psophiidae', 'ramphastidae', 'ranidae', 'rheidae', 'spalacidae', 'scincidae', 'soricidae', 'monarchidae', 'thryonomyidae', 'teiidae', 'tytonidae'], id=None), 'subfamily': ClassLabel(names=['taxidiinae', 'felinae', 'bovinae', 'capreolinae', 'didelphinae', 'suinae', 'sciurinae', 'homininae', 'ursinae', 'xerinae', 'mephitinae', 'antilopinae', 'cervinae', 'mustelinae', 'guloninae', 'erethizontinae', 'sterninae', 'ardeinae', 'murinae', 'lutrinae', 'melinae', 'neotominae', 'hydrochoerinae', 'tigriornithinae', 'tolypeutinae', 'pantherinae', 'cebinae', 'callicebinae', 'alouattinae', 'saimiriinae', 'protelinae', 'cercopithecinae', 'genettinae', 'mungotinae', 'herpestinae', 'ictonychinae', 'hyaeninae', 'mellivorinae', 'echimyinae', 'paradoxurinae', 'ratufinae', 'helictidinae', 'colobinae', 'viverrinae', 'hemigalinae', 'callosciurinae', 'erinaceinae', 'atelinae', 'camelinae', 'caviinae', 'furnariinae', 'criniferinae', 'cricetomyinae', 'euplerinae', 'deomyinae', 'nesomyinae', 'euphractinae', 'galidiinae', 'tenrecinae', 'oryzorictinae', 'musophaginae', 'myadinae', 'macroscelidinae', 'rhizomyinae', 'rhynchocyoninae', 'scincinae', 'crocidurinae', 'tremarctinae', 'tupinambinae'], id=None), 'tribe': ClassLabel(names=['bovini', 'odocoileini', 'didelphini', 'suini', 'sciurini', 'tamiini', 'marmotini', 'caprini', 'cervini', 'alceini', 'rattini', 'capreolini', 'apodemini', 'reithrodontomyini', 'neotomini', 'papionini', 'alcelaphini', 'potamochoerini', 'cephalophini', 'tragelaphini', 'hippotragini', 'oreotragini', 'cercopithecini', 'reduncini', 'antilopini', 'aepycerotini', 'phacochoerini', 'xerini', 'echimyini', 'pteromyini', 'presbytini', 'muntiacini', 'callosciurini', 'camelini', 'colobini', 'praomyini', 'protoxerini', 'arvicanthini', 'malacomyini', 'metachirini', 'murini', 'neotragini', 'macroscelidini', 'myocastorini', 'rhizomyini', 'lamini'], id=None), 'genus': ClassLabel(names=['taxidea', 'lynx', 'felis', 'bos', 'canis', 'odocoileus', 'urocyon', 'puma', 'didelphis', 'sus', 'procyon', 'sciurus', 'homo', 'ursus', 'corvus', 'gallus', 'tamias', 'sylvilagus', 'equus', 'vulpes', 'mephitis', 'meleagris', 'marmota', 'ovis', 'sialia', 'nucifraga', 'cervus', 'mustela', 'pekania', 'neogale', 'pica', 'alces', 'erethizon', 'antilocapra', 'sitta', 'ixoreus', 'piranga', 'falco', 'strix', 'anous', 'athene', 'nasua', 'capra', 'ardea', 'butorides', 'calcinus', 'iguana', 'caloenas', 'rattus', 'calonectris', 'asio', 'hydrobates', 'zenaida', 'nyctanassa', 'turdus', 'dasyprocta', 'pecari', 'lepus', 'tinamus', 'leopardus', 'cuniculus', 'mazama', 'tamiasciurus', 'capreolus', 'apodemus', 'callipepla', 'cyanocitta', 'dasypus', 'dendragapus', 'junco', 'lontra', 'martes', 'meles', 'otospermophilus', 'perisoreus', 'troglodytes', 'peromyscus', 'neotoma', 'momotus', 'speothos', 'hydrochoerus', 'cerdocyon', 'mitu', 'tigrisoma', 'myrmecophaga', 'priodontes', 'pteronura', 'panthera', 'herpailurus', 'tapirus', 'sapajus', 'plecturocebus', 'tamandua', 'penelope', 'eira', 'cathartes', 'alouatta', 'saimiri', 'tayassu', 'orycteropus', 'proteles', 'papio', 'damaliscus', 'syncerus', 'potamochoerus', 'ardeotis', 'caracal', 'anthropoides', 'sylvicapra', 'tragelaphus', 'dama', 'otocyon', 'oryx', 'genetta', 'pedetes', 'alcelaphus', 'lupulella', 'oreotragus', 'suricata', 'herpestes', 'cynictis', 'chlorocebus', 'struthio', 'hystrix', 'redunca', 'pelea', 'sagittarius', 'antidorcas', 'raphicerus', 'connochaetes', 'ictonyx', 'acinonyx', 'madoqua', 'cephalophus', 'loxodonta', 'nanger', 'eudorcas', 'giraffa', 'hippopotamus', 'crocuta', 'aepyceros', 'ourebia', 'phacochoerus', 'kobus', 'neotis', 'parahyaena', 'bunolagus', 'diceros', 'mellivora', 'crocodylus', 'pronolagus', 'hippotragus', 'leptailurus', 'lycaon', 'xerus', 'ceratotherium', 'hyaena', 'nesolagus', 'irena', 'atherurus', 'macaca', 'dactylomys', 'hydrornis', 'macropygia', 'varanus', 'arctictis', 'ratufa', 'pterorhinus', 'cinclidium', 'myophonus', 'moschiola', 'capricornis', 'cissa', 'paradoxurus', 'urva', 'rheinardia', 'spilornis', 'chalcophaps', 'scolopax', 'melogale', 'enicurus', 'trachypithecus', 'petaurista', 'cyanoderma', 'catopuma', 'garrulax', 'culicicapa', 'polyplectron', 'arctonyx', 'muntiacus', 'viverra', 'erythrogenys', 'prionailurus', 'picus', 'pardofelis', 'paguma', 'nisaetus', 'ducula', 'tupaia', 'harpactes', 'geokichla', 'chrotogale', 'callosciurus', 'manis', 'dremomys', 'pygathrix', 'trochalopteron', 'ianthocincla', 'aceros', 'rusa', 'zoothera', 'leiothrix', 'lophura', 'prionodon', 'helarctos', 'pitta', 'tamiops', 'myiomela', 'urocissa', 'accipiter', 'acrocephalus', 'acryllium', 'agamia', 'alectoris', 'chamaetylas', 'alophoixus', 'alopochen', 'stelgidillas', 'eurillas', 'anhima', 'anomalurus', 'aonyx', 'aquila', 'aramides', 'aramus', 'arborophila', 'arctogalidia', 'ardeola', 'argusianus', 'arremonops', 'atelerix', 'ateles', 'atelocynus', 'atelornis', 'atilax', 'balearica', 'bambusicola', 'baryphthengus', 'bdeogale', 'blastocerus', 'bostrychia', 'brachypteracias', 'brotogeris', 'bubo', 'bubulcus', 'buphagus', 'burhinus', 'butastur', 'buteo', 'buteogallus', 'bycanistes', 'cabassous', 'cairina', 'caloperdix', 'camelus', 'mentocrex', 'caprimulgus', 'caracara', 'carpococcyx', 'hylocichla', 'catharus', 'cavia', 'cebus', 'cercocebus', 'cercopithecus', 'allochrocebus', 'cercotrichas', 'ortalis', 'chelonoidis', 'ciconia', 'cinclodes', 'circus', 'cisticola', 'civettictis', 'claravis', 'cochlearius', 'coendou', 'collocalia', 'colobus', 'colomys', 'columba', 'columbina', 'conepatus', 'copsychus', 'coragyps', 'corythaixoides', 'cossypha', 'coturnix', 'coua', 'crax', 'cricetomys', 'cryptoprocta', 'crypturellus', 'cuon', 'cyanoptila', 'cyornis', 'daptrius', 'daubentonia', 'dendrocitta', 'dendrohyrax', 'ortygornis', 'deomys', 'dicaeum', 'dicerorhinus', 'dicrurus', 'melaenornis', 'egretta', 'elephas', 'eliurus', 'larvivora', 'erythrocebus', 'eulemur', 'euphractus', 'eupleres', 'eupodotis', 'eurocephalus', 'euryceros', 'eurypyga', 'eutriorchis', 'ficedula', 'formicarius', 'fossa', 'scleroptila', 'pternistis', 'francolinus', 'funisciurus', 'galago', 'galictis', 'galidia', 'galidictis', 'geotrygon', 'grallaria', 'guttera', 'haliaeetus', 'vanellus', 'harpia', 'heliosciurus', 'helogale', 'hemicentetes', 'hemigalus', 'urosphena', 'heterohyrax', 'hippocamelus', 'hybomys', 'hylomyscus', 'hylopetes', 'hypogeomys', 'ichneumia', 'arundinax', 'jynx', 'lagidium', 'lamprotornis', 'laniarius', 'lanius', 'lariscus', 'lemur', 'leptotila', 'lissotis', 'litocranius', 'lophotibis', 'lutreolina', 'lycalopex', 'malacomys', 'melierax', 'melocichla', 'mesembrinibis', 'chloropicus', 'metachirus', 'micrastur', 'microcebus', 'microgale', 'microsciurus', 'mirafra', 'molothrus', 'monasa', 'morphnus', 'motacilla', 'mungos', 'mus', 'musophaga', 'mydaus', 'myoprocta', 'mystacornis', 'nandinia', 'cyanomitra', 'oressochen', 'neocossyphus', 'neofelis', 'neomorphus', 'delacourella', 'streptopelia', 'nesomys', 'nesotragus', 'niltava', 'nothocrax', 'numida', 'nyctidromus', 'odontophorus', 'oenomys', 'oenanthe', 'otolemur', 'otus', 'oxylabes', 'paleosuchus', 'pan', 'paraxerus', 'pernis', 'petrodromus', 'phaethornis', 'philander', 'philantomba', 'pilherodius', 'xanthomixis', 'pipile', 'ploceus', 'poecilogale', 'pogonocichla', 'potos', 'praomys', 'presbytis', 'procavia', 'piliocolobus', 'proechimys', 'propithecus', 'protoxerus', 'psophia', 'pteroglossus', 'ramphastos', 'rana', 'rhea', 'rhizomys', 'rhynchocyon', 'rollulus', 'rupornis', 'ruwenzorornis', 'salanoia', 'saxicola', 'setifer', 'sheppardia', 'plestiodon', 'spilogale', 'spizaetus', 'stephanoaetus', 'stigmochelys', 'amazona', 'suncus', 'sundasciurus', 'tauraco', 'tenrec', 'terpsiphone', 'thamnomys', 'thryonomys', 'tockus', 'tolypeutes', 'tragulus', 'tremarctos', 'trichys', 'tupinambis', 'turtur', 'tyto', 'vicugna', 'viverricula', 'xenoperdix', 'euxerus', 'zonotrichia', 'erinaceus'], id=None), 'species': ClassLabel(names=['taxidea taxus', 'lynx rufus', 'felis catus', 'bos taurus', 'canis latrans', 'canis familiaris', 'urocyon cinereoargenteus', 'puma concolor', 'didelphis virginiana', 'sus scrofa', 'procyon lotor', 'urocyon littoralis', 'homo sapiens', 'ursus americanus', 'corvus brachyrhynchos', 'gallus gallus', 'tamias striatus', 'sylvilagus floridanus', 'sciurus niger', 'sciurus carolinensis', 'equus caballus', 'vulpes vulpes', 'mephitis mephitis', 'odocoileus virginianus', 'meleagris gallopavo', 'marmota monax', 'ovis canadensis', 'nucifraga columbiana', 'cervus canadensis', 'mustela erminea', 'pekania pennanti', 'neogale frenata', 'pica hudsonia', 'alces alces', 'erethizon dorsatum', 'antilocapra americana', 'corvus corax', 'sitta canadensis', 'ixoreus naevius', 'piranga ludoviciana', 'canis lupus', 'falco sparverius', 'strix varia', 'anous stolidus', 'athene cunicularia', 'nasua nasua', 'equus asinus', 'capra hircus', 'ardea herodias', 'butorides virescens', 'calcinus tubularis', 'falco tinnunculus', 'caloenas nicobarica', 'asio flammeus', 'hydrobates pelagicus', 'zenaida asiatica', 'nyctanassa violacea', 'dasyprocta coibae', 'pecari tajacu', 'didelphis marsupialis', 'lepus europaeus', 'tinamus major', 'ovis ammon', 'leopardus pardalis', 'mazama americana', 'cervus elaphus', 'tamiasciurus hudsonicus', 'rattus praetor', 'nasua narica', 'apodemus sylvaticus', 'callipepla californica', 'cyanocitta stelleri', 'dasypus novemcinctus', 'dendragapus obscurus', 'equus africanus', 'equus ferus', 'junco hyemalis', 'lepus americanus', 'lepus californicus', 'lontra canadensis', 'marmota flaviventris', 'martes americana', 'meles meles', 'odocoileus hemionus', 'otospermophilus beecheyi', 'perisoreus canadensis', 'rattus rattus', 'troglodytes aedon', 'zenaida macroura', 'momotus momota', 'dasyprocta fuliginosa', 'speothos venaticus', 'hydrochoerus hydrochaeris', 'iguana iguana', 'cerdocyon thous', 'mitu tomentosum', 'tigrisoma fasciatum', 'myrmecophaga tridactyla', 'priodontes maximus', 'pteronura brasiliensis', 'panthera onca', 'herpailurus yagouaroundi', 'tapirus terrestris', 'sapajus apella', 'leopardus wiedii', 'lontra longicaudis', 'sciurus igniventris', 'dasyprocta guamara', 'plecturocebus ornatus', 'mitu salvini', 'tamandua tetradactyla', 'penelope jacquacu', 'cuniculus paca', 'eira barbara', 'cathartes aura', 'penelope jacucaca', 'tayassu pecari', 'orycteropus afer', 'proteles cristatus', 'damaliscus pygargus', 'syncerus caffer', 'potamochoerus larvatus', 'ardeotis kori', 'caracal caracal', 'anthropoides paradiseus', 'sylvicapra grimmia', 'tragelaphus oryx', 'dama dama', 'otocyon megalotis', 'oryx gazella', 'lepus saxatilis', 'pedetes capensis', 'alcelaphus buselaphus', 'lupulella mesomelas', 'oreotragus oreotragus', 'tragelaphus strepsiceros', 'suricata suricatta', 'herpestes ichneumon', 'cynictis penicillata', 'chlorocebus pygerythrus', 'struthio camelus', 'hystrix africaeaustralis', 'redunca fulvorufula', 'pelea capreolus', 'sagittarius serpentarius', 'antidorcas marsupialis', 'raphicerus campestris', 'connochaetes gnou', 'equus zebra', 'ictonyx striatus', 'tragelaphus scriptus', 'acinonyx jubatus', 'loxodonta africana', 'nanger granti', 'eudorcas thomsonii', 'giraffa camelopardalis', 'lepus victoriae', 'hippopotamus amphibius', 'crocuta crocuta', 'aepyceros melampus', 'panthera pardus', 'panthera leo', 'ourebia ourebi', 'hystrix cristata', 'damaliscus lunatus', 'phacochoerus africanus', 'kobus ellipsiprymnus', 'connochaetes taurinus', 'equus quagga', 'neotis ludwigii', 'vulpes chama', 'parahyaena brunnea', 'herpestes pulverulentus', 'bunolagus monticularis', 'diceros bicornis', 'felis lybica', 'lepus capensis', 'mellivora capensis', 'crocodylus niloticus', 'cephalophus natalensis', 'lupulella adusta', 'tragelaphus angasii', 'pronolagus randensis', 'hippotragus equinus', 'leptailurus serval', 'lycaon pictus', 'ceratotherium simum', 'hyaena hyaena', 'nesolagus timminsi', 'irena puella', 'ursus thibetanus', 'atherurus macrourus', 'mustela strigidorsa', 'hydrornis elliotii', 'macropygia unchall', 'varanus bengalensis', 'arctictis binturong', 'ratufa bicolor', 'pterorhinus chinensis', 'cinclidium frontale', 'hydrornis cyaneus', 'myophonus caeruleus', 'strix leptogrammica', 'moschiola meminna', 'capricornis sumatraensis', 'cissa chinensis', 'paradoxurus hermaphroditus', 'urva urva', 'rheinardia ocellata', 'spilornis cheela', 'chalcophaps indica', 'scolopax rusticola', 'turdus obscurus', 'trachypithecus francoisi', 'cyanoderma chrysaeum', 'catopuma temminckii', 'garrulax maesi', 'culicicapa ceylonensis', 'polyplectron bicalcaratum', 'trachypithecus hatinhensis', 'arctonyx collaris', 'cissa hypoleuca', 'turdus cardis', 'muntiacus vuquangensis', 'viverra zibetha', 'erythrogenys hypoleucos', 'prionailurus bengalensis', 'picus chlorolophus', 'hystrix brachyura', 'pardofelis marmorata', 'paguma larvata', 'nisaetus nipalensis', 'ducula badia', 'pterorhinus pectoralis', 'tupaia belangeri', 'harpactes oreskios', 'geokichla citrina', 'chrotogale owstoni', 'callosciurus erythraeus', 'trachypithecus phayrei', 'macaca nemestrina', 'dremomys rufigenis', 'picus rabieri', 'muntiacus muntjak', 'pygathrix nemaeus', 'trochalopteron milnei', 'muntiacus rooseveltorum', 'garrulax castanotis', 'ianthocincla konkakinhensis', 'aceros nipalensis', 'rusa unicolor', 'zoothera dauma', 'geokichla sibirica', 'leiothrix argentauris', 'lophura nycthemera', 'prionodon pardicolor', 'butorides striata', 'macaca arctoides', 'helarctos malayanus', 'enicurus leschenaulti', 'myiomela leucura', 'urocissa whiteheadi', 'mustela kathiah', 'martes flavigula', 'accipiter madagascariensis', 'accipiter melanoleucus', 'acrocephalus baeticatus', 'acryllium vulturinum', 'agamia agami', 'alectoris rufa', 'chamaetylas poliophrys', 'alophoixus bres', 'alopochen aegyptiaca', 'alouatta sara', 'stelgidillas gracilirostris', 'eurillas latirostris', 'eurillas virens', 'anhima cornuta', 'anomalurus derbianus', 'aonyx cinereus', 'aquila heliaca', 'aquila rapax', 'aramides cajaneus', 'aramus guarauna', 'arborophila brunneopectus', 'arborophila rubrirostris', 'arborophila rufogularis', 'arctogalidia trivirgata', 'arctonyx hoevenii', 'ardea alba', 'ardea cocoi', 'ardea melanocephala', 'ardeola grayii', 'argusianus argus', 'arremonops chloronotus', 'asio madagascariensis', 'atelerix albiventris', 'ateles chamek', 'atelocynus microtis', 'atelornis pittoides', 'atherurus africanus', 'atilax paludinosus', 'balearica regulorum', 'bambusicola fytchii', 'baryphthengus martii', 'bdeogale crassicauda', 'bdeogale jacksoni', 'blastocerus dichotomus', 'bos gaurus', 'bostrychia hagedash', 'brachypteracias squamiger', 'bubulcus ibis', 'burhinus capensis', 'butastur indicus', 'buteo ridgwayi', 'buteogallus urubitinga', 'bycanistes brevis', 'cabassous centralis', 'cabassous unicinctus', 'cairina moschata', 'callosciurus notatus', 'caloperdix oculeus', 'camelus dromedarius', 'mentocrex kioloides', 'capra aegagrus', 'caracara plancus', 'carpococcyx renauldi', 'cathartes burrovianus', 'cathartes melambrotus', 'hylocichla mustelina', 'catharus ustulatus', 'cavia aperea', 'cebus albifrons', 'cephalophus harveyi', 'cephalophus nigrifrons', 'cephalophus silvicultor', 'cephalophus spadix', 'cercocebus sanjei', 'cercopithecus erythrogaster', 'allochrocebus lhoesti', 'cercopithecus mitis', 'ortalis vetula', 'chelonoidis carbonarius', 'ciconia maguari', 'cinclodes atacamensis', 'cinclodes fuscus', 'circus cyaneus', 'cisticola cherina', 'civettictis civetta', 'claravis pretiosa', 'cochlearius cochlearius', 'coendou bicolor', 'collocalia linchi', 'colobus angolensis', 'colomys goslingi', 'columba arquatrix', 'columba larvata', 'columbina talpacoti', 'conepatus chinga', 'conepatus semistriatus', 'copsychus albospecularis', 'copsychus malabaricus', 'copsychus saularis', 'coragyps atratus', 'corythaixoides leucogaster', 'cossypha archeri', 'coturnix delegorguei', 'coua caerulea', 'coua ruficeps', 'coua serriana', 'crax alector', 'crax rubra', 'cricetomys gambianus', 'cryptoprocta ferox', 'crypturellus atrocapillus', 'crypturellus boucardi', 'crypturellus cinereus', 'crypturellus cinnamomeus', 'crypturellus erythropus', 'crypturellus bartletti', 'crypturellus soui', 'crypturellus undulatus', 'crypturellus variegatus', 'cuniculus taczanowskii', 'cuon alpinus', 'cyanoptila cyanomelana', 'cyornis banyumas', 'daptrius ater', 'dasyprocta punctata', 'dasyprocta leporina', 'dasypus kappleri', 'daubentonia madagascariensis', 'dendrocitta occipitalis', 'dendrohyrax arboreus', 'ortygornis sephaena', 'deomys ferrugineus', 'dicaeum trigonostigma', 'dicerorhinus sumatrensis', 'dicrurus adsimilis', 'didelphis imperfecta', 'didelphis pernigra', 'melaenornis fischeri', 'egretta thula', 'elephas maximus', 'eliurus penicillatus', 'eliurus petteri', 'eliurus webbi', 'enicurus schistaceus', 'equus grevyi', 'larvivora cyane', 'erythrocebus patas', 'eudorcas rufifrons', 'eulemur albifrons', 'euphractus sexcinctus', 'eupleres goudotii', 'eupodotis senegalensis', 'eurocephalus ruppelli', 'euryceros prevostii', 'eurypyga helias', 'eutriorchis astur', 'felis chaus', 'felis silvestris', 'ficedula mugimaki', 'ficedula tricolor', 'formicarius analis', 'formicarius colma', 'fossa fossana', 'scleroptila afra', 'pternistis nobilis', 'funisciurus carruthersi', 'funisciurus pyrropus', 'galago senegalensis', 'galictis vittata', 'galidia elegans', 'galidictis fasciata', 'genetta genetta', 'genetta maculata', 'genetta servalina', 'genetta tigrina', 'geokichla gurneyi', 'geotrygon montana', 'geotrygon saphirina', 'grallaria andicolus', 'guttera pucherani', 'haliaeetus vociferoides', 'vanellus cayanus', 'harpia harpyja', 'buteogallus solitarius', 'heliosciurus rufobrachium', 'heliosciurus ruwenzorii', 'helogale parvula', 'hemicentetes semispinosus', 'hemigalus derbyanus', 'urosphena neumanni', 'herpestes sanguineus', 'urva semitorquata', 'heterohyrax brucei', 'hippocamelus antisensis', 'hybomys univittatus', 'hydrornis oatesi', 'hylomyscus stella', 'hylopetes alboniger', 'hypogeomys antimena', 'ichneumia albicauda', 'arundinax aedon', 'jynx torquilla', 'lagidium viscacia', 'lamprotornis chalybaeus', 'lamprotornis hildebrandti', 'lamprotornis superbus', 'laniarius funebris', 'lanius collaris', 'lariscus insignis', 'leopardus tigrinus', 'leptotila plumbeiceps', 'leptotila rufaxilla', 'leptotila verreauxi', 'lissotis hartlaubii', 'lissotis melanogaster', 'litocranius walleri', 'lophotibis cristata', 'eupodotis gindiana', 'lophura diardi', 'lophura erythrophthalma', 'lophura ignita', 'lophura inornata', 'lutreolina crassicaudata', 'lycalopex culpaeus', 'macaca assamensis', 'macaca fascicularis', 'macaca mulatta', 'madoqua guentheri', 'malacomys longipes', 'manis javanica', 'mazama temama', 'mazama chunyi', 'mazama gouazoubira', 'odocoileus pandora', 'melaenornis ardesiacus', 'melaenornis pammelaina', 'meleagris ocellata', 'melierax poliopterus', 'melocichla mentalis', 'melogale everetti', 'melogale personata', 'mesembrinibis cayennensis', 'chloropicus griseocephalus', 'metachirus nudicaudatus', 'microcebus murinus', 'microsciurus flaviventer', 'microsciurus mimulus', 'mitu tuberosum', 'molothrus oryzivorus', 'monasa morphoeus', 'morphnus guianensis', 'motacilla flava', 'motacilla flaviventris', 'mungos mungo', 'mus minutoides', 'musophaga rossae', 'mustela lutreolina', 'mydaus javanensis', 'myophonus glaucinus', 'myophonus melanurus', 'myoprocta pratti', 'mystacornis crossleyi', 'nandinia binotata', 'cyanomitra cyanolaema', 'oressochen jubatus', 'neocossyphus rufus', 'neofelis diardi', 'neofelis nebulosa', 'neomorphus geoffroyi', 'neomorphus rufipennis', 'delacourella capistrata', 'streptopelia picturata', 'nesolagus netscheri', 'nesomys audeberti', 'nesotragus moschatus', 'caprimulgus europaeus', 'niltava sumatrana', 'nisaetus nanus', 'nothocrax urumutum', 'numida meleagris', 'nyctidromus albicollis', 'odontophorus balliviani', 'odontophorus erythrops', 'odontophorus gujanensis', 'oenomys hypoxanthus', 'ortalis guttata', 'oryx beisa', 'otolemur garnettii', 'otus spilocephalus', 'ovis aries', 'oxylabes madagascariensis', 'pan troglodytes', 'panthera tigris', 'papio anubis', 'papio cynocephalus', 'paraxerus boehmi', 'paraxerus cepapi', 'paraxerus lucifer', 'paraxerus ochraceus', 'paraxerus vexillarius', 'penelope purpurascens', 'penelope superciliaris', 'pernis ptilorhynchus', 'petrodromus tetradactylus', 'philander opossum', 'philantomba monticola', 'pilherodius pileatus', 'xanthomixis apperti', 'pipile cumanensis', 'pipile pipile', 'hydrornis guajanus', 'hydrornis schneideri', 'ploceus alienus', 'ploceus baglafecht', 'poecilogale albinucha', 'pogonocichla stellata', 'polyplectron chalcurum', 'erythrogenys mcclellandi', 'potos flavus', 'praomys tullbergi', 'presbytis femoralis', 'presbytis thomasi', 'prionodon linsang', 'procavia capensis', 'piliocolobus gordonorum', 'procyon cancrivorus', 'propithecus candidus', 'protoxerus stangeri', 'psophia crepitans', 'psophia leucoptera', 'pternistis hildebrandti', 'pternistis leucoscepus', 'pteroglossus beauharnaisii', 'ramphastos tucanus', 'rattus tiomanicus', 'rhea americana', 'rhizomys sumatrensis', 'rhynchocyon cirnei', 'rhynchocyon petersi', 'rhynchocyon udzungwensis', 'rollulus rouloul', 'rupornis magnirostris', 'ruwenzorornis johnstoni', 'saimiri boliviensis', 'salanoia concolor', 'saxicola tectes', 'sciurus deppei', 'sciurus granatensis', 'sciurus ignitus', 'sciurus spadiceus', 'setifer setosus', 'sheppardia lowei', 'spilogale putorius', 'spizaetus ornatus', 'stephanoaetus coronatus', 'stigmochelys pardalis', 'streptopelia capicola', 'streptopelia lugens', 'streptopelia senegalensis', 'amazona oratrix', 'suncus murinus', 'sundasciurus hippurus', 'sus barbatus', 'sylvilagus brasiliensis', 'tamandua mexicana', 'tapirus bairdii', 'tapirus indicus', 'tauraco livingstonii', 'tenrec ecaudatus', 'terpsiphone mutata', 'thamnomys venustus', 'thryonomys gregorianus', 'thryonomys swinderianus', 'tigrisoma lineatum', 'tigrisoma mexicanum', 'tinamus guttatus', 'tinamus tao', 'tockus deckeni', 'tockus flavirostris', 'tolypeutes matacus', 'tragelaphus imberbis', 'tragulus javanicus', 'tragulus kanchil', 'tragulus napu', 'tremarctos ornatus', 'trichys fasciculata', 'tupaia glis', 'tupinambis teguixin', 'turdus ignobilis', 'turdus olivaceus', 'turdus tephronotus', 'turtur chalcospilos', 'turtur tympanistria', 'tyto alba', 'vanellus coronatus', 'varanus salvator', 'vicugna pacos', 'viverricula indica', 'xenoperdix udzungwensis', 'euxerus erythropus', 'xerus rutilus', 'zonotrichia capensis', 'erinaceus europaeus', 'rattus norvegicus'], id=None), 'subspecies': ClassLabel(names=['sciurus niger cinereus', 'alces alces americanus', 'sapajus apella margaritae', 'damaliscus pygargus phillipsi', 'alcelaphus buselaphus caama', 'damaliscus lunatus jimela', 'equus quagga burchellii', 'zoothera dauma dauma'], id=None), 'variety': ClassLabel(names=['gallus gallus domesticus'], id=None)}]\n",
            "                      kingdom      phylum    subphylum superclass      class  \\\n",
            "common_name                                                                    \n",
            "                         None        None         None       None       None   \n",
            "animal               animalia        None         None       None       None   \n",
            "arthropods           animalia  arthropoda         None       None       None   \n",
            "spider               animalia  arthropoda  chelicerata       None  arachnida   \n",
            "spiders              animalia  arthropoda  chelicerata       None  arachnida   \n",
            "...                       ...         ...          ...        ...        ...   \n",
            "turtles              animalia    chordata   vertebrata       None   reptilia   \n",
            "tortoises            animalia    chordata   vertebrata       None   reptilia   \n",
            "red-footed tortoise  animalia    chordata   vertebrata       None   reptilia   \n",
            "leopard tortoise     animalia    chordata   vertebrata       None   reptilia   \n",
            "sea turtle           animalia    chordata   vertebrata       None   reptilia   \n",
            "\n",
            "                    subclass infraclass superorder       order suborder  \\\n",
            "common_name                                                               \n",
            "                        None       None       None        None     None   \n",
            "animal                  None       None       None        None     None   \n",
            "arthropods              None       None       None        None     None   \n",
            "spider                  None       None       None     araneae     None   \n",
            "spiders                 None       None       None     araneae     None   \n",
            "...                      ...        ...        ...         ...      ...   \n",
            "turtles                 None       None       None  testudines     None   \n",
            "tortoises               None       None       None  testudines     None   \n",
            "red-footed tortoise     None       None       None  testudines     None   \n",
            "leopard tortoise        None       None       None  testudines     None   \n",
            "sea turtle              None       None       None  testudines     None   \n",
            "\n",
            "                    infraorder   superfamily        family subfamily tribe  \\\n",
            "common_name                                                                  \n",
            "                          None          None          None      None  None   \n",
            "animal                    None          None          None      None  None   \n",
            "arthropods                None          None          None      None  None   \n",
            "spider                    None          None          None      None  None   \n",
            "spiders                   None          None          None      None  None   \n",
            "...                        ...           ...           ...       ...   ...   \n",
            "turtles                   None          None          None      None  None   \n",
            "tortoises                 None          None  testudinidae      None  None   \n",
            "red-footed tortoise       None          None  testudinidae      None  None   \n",
            "leopard tortoise          None          None  testudinidae      None  None   \n",
            "sea turtle                None  chelonioidea          None      None  None   \n",
            "\n",
            "                            genus                  species subspecies variety  \n",
            "common_name                                                                    \n",
            "                             None                     None       None    None  \n",
            "animal                       None                     None       None    None  \n",
            "arthropods                   None                     None       None    None  \n",
            "spider                       None                     None       None    None  \n",
            "spiders                      None                     None       None    None  \n",
            "...                           ...                      ...        ...     ...  \n",
            "turtles                      None                     None       None    None  \n",
            "tortoises                    None                     None       None    None  \n",
            "red-footed tortoise   chelonoidis  chelonoidis carbonarius       None    None  \n",
            "leopard tortoise     stigmochelys    stigmochelys pardalis       None    None  \n",
            "sea turtle                   None                     None       None    None  \n",
            "\n",
            "[915 rows x 19 columns]\n"
          ]
        }
      ],
      "source": [
        "import pandas as pd\n",
        "\n",
        "LILA_COMMON_NAMES_TO_TAXONOMY = pd.read_json(\"https://huggingface.co/datasets/society-ethics/lila_camera_traps/raw/main/data/common_names_to_tax.json\", lines=True).set_index(\"common_name\")\n",
        "print(lila_dataset.features)\n",
        "print(lila_dataset.features[\"annotations.taxonomy\"])\n",
        "print(LILA_COMMON_NAMES_TO_TAXONOMY)\n",
        "taxonomy = lila_dataset.features[\"annotations.taxonomy\"][0]"
      ]
    },
    {
      "cell_type": "code",
      "execution_count": null,
      "metadata": {
        "id": "D3qVttHsSdeQ"
      },
      "outputs": [],
      "source": [
        "common_name=\"chinese serow\""
      ]
    },
    {
      "cell_type": "code",
      "execution_count": null,
      "metadata": {
        "id": "XlQicrD71PZ_"
      },
      "outputs": [],
      "source": [
        "def common_filter(common_name):\n",
        "  animal_dic = LILA_COMMON_NAMES_TO_TAXONOMY.loc[common_name].to_dict()\n",
        "  print(animal_dic)\n",
        "  animal_dic = {k: taxonomy[k].str2int(v) if v is not None else v for k, v in animal_dic.items()}  # Map to ClassLabel integers\n",
        "  print(animal_dic)\n",
        "\n",
        "  animal_dataset = lila_dataset.filter(lambda x: x[\"annotations.taxonomy\"][0] == animal_dic)\n",
        "  return animal_dataset"
      ]
    },
    {
      "cell_type": "code",
      "execution_count": null,
      "metadata": {
        "colab": {
          "base_uri": "https://localhost:8080/",
          "height": 104,
          "referenced_widgets": [
            "6a62a4141251414da6e7bbe1a58fb9bf",
            "0dad2e0474c448afb8b1f12830fc2109",
            "e10196ca5af74ab983dbdeaf68dc2a12",
            "f9bcda664e93474c96879326b20918b9",
            "e4799717a398416383deb62cf00dc299",
            "6ca0e035bd2f4375a3bce1796e41c1cc",
            "2d3c16f1359449e3be84221b4ae6b930",
            "b7ad73cdb9e94b8a92916bacc31f6142",
            "74612905a18c436cae5bc9e4b2284af0",
            "f0d7bbab076c4b3a9880ac6d8282159c",
            "2556af198fba4a55806e47d2ad55b778"
          ]
        },
        "id": "jAZUQ8zcTMjG",
        "outputId": "1705d235-8362-4359-b0ca-6ae38770d090"
      },
      "outputs": [
        {
          "output_type": "stream",
          "name": "stdout",
          "text": [
            "{'kingdom': 'animalia', 'phylum': 'chordata', 'subphylum': 'vertebrata', 'superclass': None, 'class': 'mammalia', 'subclass': 'theria', 'infraclass': 'placentalia', 'superorder': 'laurasiatheria', 'order': 'artiodactyla', 'suborder': 'ruminantia', 'infraorder': None, 'superfamily': None, 'family': 'bovidae', 'subfamily': 'antilopinae', 'tribe': 'caprini', 'genus': 'capricornis', 'species': 'capricornis sumatraensis', 'subspecies': None, 'variety': None}\n",
            "{'kingdom': 0, 'phylum': 0, 'subphylum': 0, 'superclass': None, 'class': 0, 'subclass': 0, 'infraclass': 0, 'superorder': 0, 'order': 2, 'suborder': 0, 'infraorder': None, 'superfamily': None, 'family': 2, 'subfamily': 11, 'tribe': 7, 'genus': 171, 'species': 204, 'subspecies': None, 'variety': None}\n"
          ]
        },
        {
          "output_type": "display_data",
          "data": {
            "text/plain": [
              "Filter:   0%|          | 0/2035849 [00:00<?, ? examples/s]"
            ],
            "application/vnd.jupyter.widget-view+json": {
              "version_major": 2,
              "version_minor": 0,
              "model_id": "6a62a4141251414da6e7bbe1a58fb9bf"
            }
          },
          "metadata": {}
        }
      ],
      "source": [
        "\n",
        "animal_dataset=common_filter(common_name)"
      ]
    },
    {
      "cell_type": "code",
      "execution_count": null,
      "metadata": {
        "id": "I9NsbJEgQk7Y",
        "colab": {
          "base_uri": "https://localhost:8080/"
        },
        "outputId": "b4f2af41-70fd-452c-8878-d878623b095e"
      },
      "outputs": [
        {
          "output_type": "execute_result",
          "data": {
            "text/plain": [
              "(32740, 3)"
            ]
          },
          "metadata": {},
          "execution_count": 10
        }
      ],
      "source": [
        "animal_dataset.shape"
      ]
    },
    {
      "cell_type": "code",
      "execution_count": null,
      "metadata": {
        "id": "SdiIs7oQD7ea",
        "colab": {
          "base_uri": "https://localhost:8080/"
        },
        "outputId": "6a4bf493-e075-4acf-a397-f8e5f06baaff"
      },
      "outputs": [
        {
          "output_type": "stream",
          "name": "stdout",
          "text": [
            "Dataset({\n",
            "    features: ['file_name', 'annotations.taxonomy', 'image'],\n",
            "    num_rows: 32740\n",
            "})\n"
          ]
        }
      ],
      "source": [
        "print(animal_dataset)"
      ]
    },
    {
      "cell_type": "code",
      "execution_count": null,
      "metadata": {
        "id": "3NmO9PuaRt_e",
        "colab": {
          "base_uri": "https://localhost:8080/"
        },
        "outputId": "bc6c1037-102e-472f-82e4-43ce00c22610"
      },
      "outputs": [
        {
          "output_type": "execute_result",
          "data": {
            "text/plain": [
              "{'file_name': 'public/lao/loc_0491/2020/06/image_00115.jpg',\n",
              " 'annotations.taxonomy': [{'kingdom': 0,\n",
              "   'phylum': 0,\n",
              "   'subphylum': 0,\n",
              "   'superclass': None,\n",
              "   'class': 0,\n",
              "   'subclass': 0,\n",
              "   'infraclass': 0,\n",
              "   'superorder': 0,\n",
              "   'order': 2,\n",
              "   'suborder': 0,\n",
              "   'infraorder': None,\n",
              "   'superfamily': None,\n",
              "   'family': 2,\n",
              "   'subfamily': 11,\n",
              "   'tribe': 7,\n",
              "   'genus': 171,\n",
              "   'species': 204,\n",
              "   'subspecies': None,\n",
              "   'variety': None}],\n",
              " 'image': 'https://lilablobssc.blob.core.windows.net/swg-camera-traps/public/lao/loc_0491/2020/06/image_00115.jpg'}"
            ]
          },
          "metadata": {},
          "execution_count": 12
        }
      ],
      "source": [
        "animal_dataset[2500]"
      ]
    },
    {
      "cell_type": "code",
      "execution_count": null,
      "metadata": {
        "id": "Qze2Iok1Cki3",
        "colab": {
          "base_uri": "https://localhost:8080/"
        },
        "outputId": "c3f98454-ea7a-48b1-91b4-606f59606b26"
      },
      "outputs": [
        {
          "output_type": "stream",
          "name": "stdout",
          "text": [
            "[<PIL.JpegImagePlugin.JpegImageFile image mode=RGB size=4032x3024 at 0x7F36CC2E8760>, <PIL.MpoImagePlugin.MpoImageFile image mode=RGB size=3840x2880 at 0x7F36CC2EA380>, <PIL.MpoImagePlugin.MpoImageFile image mode=RGB size=3840x2880 at 0x7F36CC2E9510>, <PIL.MpoImagePlugin.MpoImageFile image mode=RGB size=3840x2880 at 0x7F36CE639000>]\n"
          ]
        }
      ],
      "source": [
        "from PIL import Image, ImageDraw\n",
        "import requests\n",
        "from io import BytesIO\n",
        "\n",
        "def show(item):\n",
        "  try:\n",
        "    response = requests.get(item[\"image\"])\n",
        "    img = Image.open(BytesIO(response.content))\n",
        "    return img\n",
        "  except:\n",
        "    print(\"Error while loading image.\")\n",
        "    return None\n",
        "\n",
        "def image_grid(imgs, rows, cols):\n",
        "    assert len(imgs) == rows*cols\n",
        "\n",
        "    w, h = imgs[0].size\n",
        "    grid = Image.new('RGB', size=(cols*w, rows*h))\n",
        "    grid_w, grid_h = grid.size\n",
        "\n",
        "    for i, img in enumerate(imgs):\n",
        "        grid.paste(img, box=(i%cols*w, i//cols*h))\n",
        "    return grid\n",
        "animal_images = [show(x) for x in animal_dataset.shuffle().select(range(4))]\n",
        "print(animal_images)\n"
      ]
    },
    {
      "cell_type": "code",
      "execution_count": null,
      "metadata": {
        "id": "pM4Owjml8rnI"
      },
      "outputs": [],
      "source": [
        "image_grid(animal_images, rows=2, cols=2)"
      ]
    },
    {
      "cell_type": "code",
      "execution_count": null,
      "metadata": {
        "id": "TvvqgDRLiH8Q"
      },
      "outputs": [],
      "source": [
        "from PIL import Image\n",
        "import requests\n",
        "from io import BytesIO\n",
        "import re\n",
        "\n",
        "def sanitize_text(text):\n",
        "    # Define a regular expression pattern to match illegal characters\n",
        "    illegal_chars = r'[#%&{}\\\\<>*?/$!\\'\":@+`|=]'\n",
        "\n",
        "    # Use the sub() function from the re module to replace illegal characters with underscores\n",
        "    sanitized_text = re.sub(illegal_chars, '_', text)\n",
        "\n",
        "    # Remove leading and trailing whitespace and replace consecutive spaces with a single space\n",
        "    sanitized_text = re.sub(r'\\s+', ' ', sanitized_text).strip()\n",
        "\n",
        "    return sanitized_text\n",
        "\n",
        "# Define a function to download and save an image\n",
        "def download_and_save_image(item, save_directory):\n",
        "    try:\n",
        "        print(item)\n",
        "        response = requests.get(item[\"image\"])\n",
        "        print(response)\n",
        "        img = Image.open(BytesIO(response.content))\n",
        "        img.save(f\"{save_directory}/{sanitize_text(item['file_name'])}\")\n",
        "        print(f\"Downloaded and saved {item['file_name']}.jpg\")\n",
        "    except:\n",
        "        print(f\"Error while downloading {item['file_name']}\")\n",
        "\n",
        "# Specify the directory want to save the images\n",
        "save_directory = \"/content/drive/MyDrive/sumatran_seroww/swg\"\n",
        "\n",
        "# Create the directory if it doesn't exist\n",
        "import os\n",
        "os.makedirs(save_directory, exist_ok=True)\n",
        "\n",
        "# Iterate through the 'pigs' dataset and download/save the images\n",
        "for item in animal_dataset:\n",
        "    download_and_save_image(item, save_directory)"
      ]
    },
    {
      "cell_type": "markdown",
      "metadata": {
        "id": "3U4YqSG79H70"
      },
      "source": [
        "# Filtering\n",
        "Utilize the dataset's taxonomy to filter images based on different taxonomic levels, such as species, class, family, and more"
      ]
    },
    {
      "cell_type": "code",
      "execution_count": null,
      "metadata": {
        "id": "D21u9YtO9G30"
      },
      "outputs": [],
      "source": [
        "# taxonomy = lila_dataset.features[\"annotations.taxonomy\"][0]\n",
        "# print(taxonomy)\n",
        "# pigs = lila_dataset.filter(lambda x: x[\"annotations.taxonomy\"][0][\"species\"] == taxonomy[\"species\"].str2int(\"equus ferus\"))\n",
        "# print(pigs)"
      ]
    },
    {
      "cell_type": "code",
      "execution_count": null,
      "metadata": {
        "id": "TA7neko5dM51"
      },
      "outputs": [],
      "source": [
        "# print(f\"Full dataset: {lila_dataset.shape}\")\n",
        "# print(f\"Only pigs: {pigs.shape}\")"
      ]
    },
    {
      "cell_type": "code",
      "execution_count": null,
      "metadata": {
        "id": "nZc0mJOCNglr"
      },
      "outputs": [],
      "source": []
    }
  ],
  "metadata": {
    "colab": {
      "provenance": []
    },
    "kernelspec": {
      "display_name": "Python 3",
      "name": "python3"
    },
    "language_info": {
      "name": "python"
    },
    "widgets": {
      "application/vnd.jupyter.widget-state+json": {
        "677195b715f54fedb537de0a6cbf97db": {
          "model_module": "@jupyter-widgets/controls",
          "model_name": "HBoxModel",
          "model_module_version": "1.5.0",
          "state": {
            "_dom_classes": [],
            "_model_module": "@jupyter-widgets/controls",
            "_model_module_version": "1.5.0",
            "_model_name": "HBoxModel",
            "_view_count": null,
            "_view_module": "@jupyter-widgets/controls",
            "_view_module_version": "1.5.0",
            "_view_name": "HBoxView",
            "box_style": "",
            "children": [
              "IPY_MODEL_8e46aae855ca4b00a853783900143974",
              "IPY_MODEL_dfceb49bcefa4c0a9cf55191a9b725e9",
              "IPY_MODEL_e3fe8d3ca9d84fd0b79b4cb3a832430e"
            ],
            "layout": "IPY_MODEL_46f8b398673643c5a4c085586e1508c6"
          }
        },
        "8e46aae855ca4b00a853783900143974": {
          "model_module": "@jupyter-widgets/controls",
          "model_name": "HTMLModel",
          "model_module_version": "1.5.0",
          "state": {
            "_dom_classes": [],
            "_model_module": "@jupyter-widgets/controls",
            "_model_module_version": "1.5.0",
            "_model_name": "HTMLModel",
            "_view_count": null,
            "_view_module": "@jupyter-widgets/controls",
            "_view_module_version": "1.5.0",
            "_view_name": "HTMLView",
            "description": "",
            "description_tooltip": null,
            "layout": "IPY_MODEL_7632b8b1464f42b3b8a9eef9ec9cc732",
            "placeholder": "​",
            "style": "IPY_MODEL_153e323ec6f74224a5df6a0048918e8b",
            "value": "Downloading builder script: 100%"
          }
        },
        "dfceb49bcefa4c0a9cf55191a9b725e9": {
          "model_module": "@jupyter-widgets/controls",
          "model_name": "FloatProgressModel",
          "model_module_version": "1.5.0",
          "state": {
            "_dom_classes": [],
            "_model_module": "@jupyter-widgets/controls",
            "_model_module_version": "1.5.0",
            "_model_name": "FloatProgressModel",
            "_view_count": null,
            "_view_module": "@jupyter-widgets/controls",
            "_view_module_version": "1.5.0",
            "_view_name": "ProgressView",
            "bar_style": "success",
            "description": "",
            "description_tooltip": null,
            "layout": "IPY_MODEL_17cae5832eb446d38cfc6fd55de1863e",
            "max": 52283,
            "min": 0,
            "orientation": "horizontal",
            "style": "IPY_MODEL_04d1902a5a7f4a89b7011bc3efedf720",
            "value": 52283
          }
        },
        "e3fe8d3ca9d84fd0b79b4cb3a832430e": {
          "model_module": "@jupyter-widgets/controls",
          "model_name": "HTMLModel",
          "model_module_version": "1.5.0",
          "state": {
            "_dom_classes": [],
            "_model_module": "@jupyter-widgets/controls",
            "_model_module_version": "1.5.0",
            "_model_name": "HTMLModel",
            "_view_count": null,
            "_view_module": "@jupyter-widgets/controls",
            "_view_module_version": "1.5.0",
            "_view_name": "HTMLView",
            "description": "",
            "description_tooltip": null,
            "layout": "IPY_MODEL_1f72a16180484afab1484350a51dd053",
            "placeholder": "​",
            "style": "IPY_MODEL_2600032013124548a43c0ad5b52af946",
            "value": " 52.3k/52.3k [00:00&lt;00:00, 2.48MB/s]"
          }
        },
        "46f8b398673643c5a4c085586e1508c6": {
          "model_module": "@jupyter-widgets/base",
          "model_name": "LayoutModel",
          "model_module_version": "1.2.0",
          "state": {
            "_model_module": "@jupyter-widgets/base",
            "_model_module_version": "1.2.0",
            "_model_name": "LayoutModel",
            "_view_count": null,
            "_view_module": "@jupyter-widgets/base",
            "_view_module_version": "1.2.0",
            "_view_name": "LayoutView",
            "align_content": null,
            "align_items": null,
            "align_self": null,
            "border": null,
            "bottom": null,
            "display": null,
            "flex": null,
            "flex_flow": null,
            "grid_area": null,
            "grid_auto_columns": null,
            "grid_auto_flow": null,
            "grid_auto_rows": null,
            "grid_column": null,
            "grid_gap": null,
            "grid_row": null,
            "grid_template_areas": null,
            "grid_template_columns": null,
            "grid_template_rows": null,
            "height": null,
            "justify_content": null,
            "justify_items": null,
            "left": null,
            "margin": null,
            "max_height": null,
            "max_width": null,
            "min_height": null,
            "min_width": null,
            "object_fit": null,
            "object_position": null,
            "order": null,
            "overflow": null,
            "overflow_x": null,
            "overflow_y": null,
            "padding": null,
            "right": null,
            "top": null,
            "visibility": null,
            "width": null
          }
        },
        "7632b8b1464f42b3b8a9eef9ec9cc732": {
          "model_module": "@jupyter-widgets/base",
          "model_name": "LayoutModel",
          "model_module_version": "1.2.0",
          "state": {
            "_model_module": "@jupyter-widgets/base",
            "_model_module_version": "1.2.0",
            "_model_name": "LayoutModel",
            "_view_count": null,
            "_view_module": "@jupyter-widgets/base",
            "_view_module_version": "1.2.0",
            "_view_name": "LayoutView",
            "align_content": null,
            "align_items": null,
            "align_self": null,
            "border": null,
            "bottom": null,
            "display": null,
            "flex": null,
            "flex_flow": null,
            "grid_area": null,
            "grid_auto_columns": null,
            "grid_auto_flow": null,
            "grid_auto_rows": null,
            "grid_column": null,
            "grid_gap": null,
            "grid_row": null,
            "grid_template_areas": null,
            "grid_template_columns": null,
            "grid_template_rows": null,
            "height": null,
            "justify_content": null,
            "justify_items": null,
            "left": null,
            "margin": null,
            "max_height": null,
            "max_width": null,
            "min_height": null,
            "min_width": null,
            "object_fit": null,
            "object_position": null,
            "order": null,
            "overflow": null,
            "overflow_x": null,
            "overflow_y": null,
            "padding": null,
            "right": null,
            "top": null,
            "visibility": null,
            "width": null
          }
        },
        "153e323ec6f74224a5df6a0048918e8b": {
          "model_module": "@jupyter-widgets/controls",
          "model_name": "DescriptionStyleModel",
          "model_module_version": "1.5.0",
          "state": {
            "_model_module": "@jupyter-widgets/controls",
            "_model_module_version": "1.5.0",
            "_model_name": "DescriptionStyleModel",
            "_view_count": null,
            "_view_module": "@jupyter-widgets/base",
            "_view_module_version": "1.2.0",
            "_view_name": "StyleView",
            "description_width": ""
          }
        },
        "17cae5832eb446d38cfc6fd55de1863e": {
          "model_module": "@jupyter-widgets/base",
          "model_name": "LayoutModel",
          "model_module_version": "1.2.0",
          "state": {
            "_model_module": "@jupyter-widgets/base",
            "_model_module_version": "1.2.0",
            "_model_name": "LayoutModel",
            "_view_count": null,
            "_view_module": "@jupyter-widgets/base",
            "_view_module_version": "1.2.0",
            "_view_name": "LayoutView",
            "align_content": null,
            "align_items": null,
            "align_self": null,
            "border": null,
            "bottom": null,
            "display": null,
            "flex": null,
            "flex_flow": null,
            "grid_area": null,
            "grid_auto_columns": null,
            "grid_auto_flow": null,
            "grid_auto_rows": null,
            "grid_column": null,
            "grid_gap": null,
            "grid_row": null,
            "grid_template_areas": null,
            "grid_template_columns": null,
            "grid_template_rows": null,
            "height": null,
            "justify_content": null,
            "justify_items": null,
            "left": null,
            "margin": null,
            "max_height": null,
            "max_width": null,
            "min_height": null,
            "min_width": null,
            "object_fit": null,
            "object_position": null,
            "order": null,
            "overflow": null,
            "overflow_x": null,
            "overflow_y": null,
            "padding": null,
            "right": null,
            "top": null,
            "visibility": null,
            "width": null
          }
        },
        "04d1902a5a7f4a89b7011bc3efedf720": {
          "model_module": "@jupyter-widgets/controls",
          "model_name": "ProgressStyleModel",
          "model_module_version": "1.5.0",
          "state": {
            "_model_module": "@jupyter-widgets/controls",
            "_model_module_version": "1.5.0",
            "_model_name": "ProgressStyleModel",
            "_view_count": null,
            "_view_module": "@jupyter-widgets/base",
            "_view_module_version": "1.2.0",
            "_view_name": "StyleView",
            "bar_color": null,
            "description_width": ""
          }
        },
        "1f72a16180484afab1484350a51dd053": {
          "model_module": "@jupyter-widgets/base",
          "model_name": "LayoutModel",
          "model_module_version": "1.2.0",
          "state": {
            "_model_module": "@jupyter-widgets/base",
            "_model_module_version": "1.2.0",
            "_model_name": "LayoutModel",
            "_view_count": null,
            "_view_module": "@jupyter-widgets/base",
            "_view_module_version": "1.2.0",
            "_view_name": "LayoutView",
            "align_content": null,
            "align_items": null,
            "align_self": null,
            "border": null,
            "bottom": null,
            "display": null,
            "flex": null,
            "flex_flow": null,
            "grid_area": null,
            "grid_auto_columns": null,
            "grid_auto_flow": null,
            "grid_auto_rows": null,
            "grid_column": null,
            "grid_gap": null,
            "grid_row": null,
            "grid_template_areas": null,
            "grid_template_columns": null,
            "grid_template_rows": null,
            "height": null,
            "justify_content": null,
            "justify_items": null,
            "left": null,
            "margin": null,
            "max_height": null,
            "max_width": null,
            "min_height": null,
            "min_width": null,
            "object_fit": null,
            "object_position": null,
            "order": null,
            "overflow": null,
            "overflow_x": null,
            "overflow_y": null,
            "padding": null,
            "right": null,
            "top": null,
            "visibility": null,
            "width": null
          }
        },
        "2600032013124548a43c0ad5b52af946": {
          "model_module": "@jupyter-widgets/controls",
          "model_name": "DescriptionStyleModel",
          "model_module_version": "1.5.0",
          "state": {
            "_model_module": "@jupyter-widgets/controls",
            "_model_module_version": "1.5.0",
            "_model_name": "DescriptionStyleModel",
            "_view_count": null,
            "_view_module": "@jupyter-widgets/base",
            "_view_module_version": "1.2.0",
            "_view_name": "StyleView",
            "description_width": ""
          }
        },
        "542d27b384eb46f2bf030bc7540bba32": {
          "model_module": "@jupyter-widgets/controls",
          "model_name": "HBoxModel",
          "model_module_version": "1.5.0",
          "state": {
            "_dom_classes": [],
            "_model_module": "@jupyter-widgets/controls",
            "_model_module_version": "1.5.0",
            "_model_name": "HBoxModel",
            "_view_count": null,
            "_view_module": "@jupyter-widgets/controls",
            "_view_module_version": "1.5.0",
            "_view_name": "HBoxView",
            "box_style": "",
            "children": [
              "IPY_MODEL_07a019effc614227986165f6b21f127e",
              "IPY_MODEL_f594a0fff7d14f9ca60b68c1a1c72e90",
              "IPY_MODEL_725b0809e016478ba5ed510784110ca1"
            ],
            "layout": "IPY_MODEL_8511d907f4f645ae828589ccb26437b1"
          }
        },
        "07a019effc614227986165f6b21f127e": {
          "model_module": "@jupyter-widgets/controls",
          "model_name": "HTMLModel",
          "model_module_version": "1.5.0",
          "state": {
            "_dom_classes": [],
            "_model_module": "@jupyter-widgets/controls",
            "_model_module_version": "1.5.0",
            "_model_name": "HTMLModel",
            "_view_count": null,
            "_view_module": "@jupyter-widgets/controls",
            "_view_module_version": "1.5.0",
            "_view_name": "HTMLView",
            "description": "",
            "description_tooltip": null,
            "layout": "IPY_MODEL_55ae3041e49e4686ba4f565d95d01f35",
            "placeholder": "​",
            "style": "IPY_MODEL_b022c3f963c447bb9af5d0aa1e52406c",
            "value": "Downloading readme: 100%"
          }
        },
        "f594a0fff7d14f9ca60b68c1a1c72e90": {
          "model_module": "@jupyter-widgets/controls",
          "model_name": "FloatProgressModel",
          "model_module_version": "1.5.0",
          "state": {
            "_dom_classes": [],
            "_model_module": "@jupyter-widgets/controls",
            "_model_module_version": "1.5.0",
            "_model_name": "FloatProgressModel",
            "_view_count": null,
            "_view_module": "@jupyter-widgets/controls",
            "_view_module_version": "1.5.0",
            "_view_name": "ProgressView",
            "bar_style": "success",
            "description": "",
            "description_tooltip": null,
            "layout": "IPY_MODEL_30b78add245447d391b6e6ba99f8e217",
            "max": 35914,
            "min": 0,
            "orientation": "horizontal",
            "style": "IPY_MODEL_ee17d05fb5f2417dba3ad5c8d2cecc83",
            "value": 35914
          }
        },
        "725b0809e016478ba5ed510784110ca1": {
          "model_module": "@jupyter-widgets/controls",
          "model_name": "HTMLModel",
          "model_module_version": "1.5.0",
          "state": {
            "_dom_classes": [],
            "_model_module": "@jupyter-widgets/controls",
            "_model_module_version": "1.5.0",
            "_model_name": "HTMLModel",
            "_view_count": null,
            "_view_module": "@jupyter-widgets/controls",
            "_view_module_version": "1.5.0",
            "_view_name": "HTMLView",
            "description": "",
            "description_tooltip": null,
            "layout": "IPY_MODEL_292920eeb30d4861a9d7dba0f47c6d2c",
            "placeholder": "​",
            "style": "IPY_MODEL_4c8d31ce616f43c1a876f345224109de",
            "value": " 35.9k/35.9k [00:00&lt;00:00, 1.73MB/s]"
          }
        },
        "8511d907f4f645ae828589ccb26437b1": {
          "model_module": "@jupyter-widgets/base",
          "model_name": "LayoutModel",
          "model_module_version": "1.2.0",
          "state": {
            "_model_module": "@jupyter-widgets/base",
            "_model_module_version": "1.2.0",
            "_model_name": "LayoutModel",
            "_view_count": null,
            "_view_module": "@jupyter-widgets/base",
            "_view_module_version": "1.2.0",
            "_view_name": "LayoutView",
            "align_content": null,
            "align_items": null,
            "align_self": null,
            "border": null,
            "bottom": null,
            "display": null,
            "flex": null,
            "flex_flow": null,
            "grid_area": null,
            "grid_auto_columns": null,
            "grid_auto_flow": null,
            "grid_auto_rows": null,
            "grid_column": null,
            "grid_gap": null,
            "grid_row": null,
            "grid_template_areas": null,
            "grid_template_columns": null,
            "grid_template_rows": null,
            "height": null,
            "justify_content": null,
            "justify_items": null,
            "left": null,
            "margin": null,
            "max_height": null,
            "max_width": null,
            "min_height": null,
            "min_width": null,
            "object_fit": null,
            "object_position": null,
            "order": null,
            "overflow": null,
            "overflow_x": null,
            "overflow_y": null,
            "padding": null,
            "right": null,
            "top": null,
            "visibility": null,
            "width": null
          }
        },
        "55ae3041e49e4686ba4f565d95d01f35": {
          "model_module": "@jupyter-widgets/base",
          "model_name": "LayoutModel",
          "model_module_version": "1.2.0",
          "state": {
            "_model_module": "@jupyter-widgets/base",
            "_model_module_version": "1.2.0",
            "_model_name": "LayoutModel",
            "_view_count": null,
            "_view_module": "@jupyter-widgets/base",
            "_view_module_version": "1.2.0",
            "_view_name": "LayoutView",
            "align_content": null,
            "align_items": null,
            "align_self": null,
            "border": null,
            "bottom": null,
            "display": null,
            "flex": null,
            "flex_flow": null,
            "grid_area": null,
            "grid_auto_columns": null,
            "grid_auto_flow": null,
            "grid_auto_rows": null,
            "grid_column": null,
            "grid_gap": null,
            "grid_row": null,
            "grid_template_areas": null,
            "grid_template_columns": null,
            "grid_template_rows": null,
            "height": null,
            "justify_content": null,
            "justify_items": null,
            "left": null,
            "margin": null,
            "max_height": null,
            "max_width": null,
            "min_height": null,
            "min_width": null,
            "object_fit": null,
            "object_position": null,
            "order": null,
            "overflow": null,
            "overflow_x": null,
            "overflow_y": null,
            "padding": null,
            "right": null,
            "top": null,
            "visibility": null,
            "width": null
          }
        },
        "b022c3f963c447bb9af5d0aa1e52406c": {
          "model_module": "@jupyter-widgets/controls",
          "model_name": "DescriptionStyleModel",
          "model_module_version": "1.5.0",
          "state": {
            "_model_module": "@jupyter-widgets/controls",
            "_model_module_version": "1.5.0",
            "_model_name": "DescriptionStyleModel",
            "_view_count": null,
            "_view_module": "@jupyter-widgets/base",
            "_view_module_version": "1.2.0",
            "_view_name": "StyleView",
            "description_width": ""
          }
        },
        "30b78add245447d391b6e6ba99f8e217": {
          "model_module": "@jupyter-widgets/base",
          "model_name": "LayoutModel",
          "model_module_version": "1.2.0",
          "state": {
            "_model_module": "@jupyter-widgets/base",
            "_model_module_version": "1.2.0",
            "_model_name": "LayoutModel",
            "_view_count": null,
            "_view_module": "@jupyter-widgets/base",
            "_view_module_version": "1.2.0",
            "_view_name": "LayoutView",
            "align_content": null,
            "align_items": null,
            "align_self": null,
            "border": null,
            "bottom": null,
            "display": null,
            "flex": null,
            "flex_flow": null,
            "grid_area": null,
            "grid_auto_columns": null,
            "grid_auto_flow": null,
            "grid_auto_rows": null,
            "grid_column": null,
            "grid_gap": null,
            "grid_row": null,
            "grid_template_areas": null,
            "grid_template_columns": null,
            "grid_template_rows": null,
            "height": null,
            "justify_content": null,
            "justify_items": null,
            "left": null,
            "margin": null,
            "max_height": null,
            "max_width": null,
            "min_height": null,
            "min_width": null,
            "object_fit": null,
            "object_position": null,
            "order": null,
            "overflow": null,
            "overflow_x": null,
            "overflow_y": null,
            "padding": null,
            "right": null,
            "top": null,
            "visibility": null,
            "width": null
          }
        },
        "ee17d05fb5f2417dba3ad5c8d2cecc83": {
          "model_module": "@jupyter-widgets/controls",
          "model_name": "ProgressStyleModel",
          "model_module_version": "1.5.0",
          "state": {
            "_model_module": "@jupyter-widgets/controls",
            "_model_module_version": "1.5.0",
            "_model_name": "ProgressStyleModel",
            "_view_count": null,
            "_view_module": "@jupyter-widgets/base",
            "_view_module_version": "1.2.0",
            "_view_name": "StyleView",
            "bar_color": null,
            "description_width": ""
          }
        },
        "292920eeb30d4861a9d7dba0f47c6d2c": {
          "model_module": "@jupyter-widgets/base",
          "model_name": "LayoutModel",
          "model_module_version": "1.2.0",
          "state": {
            "_model_module": "@jupyter-widgets/base",
            "_model_module_version": "1.2.0",
            "_model_name": "LayoutModel",
            "_view_count": null,
            "_view_module": "@jupyter-widgets/base",
            "_view_module_version": "1.2.0",
            "_view_name": "LayoutView",
            "align_content": null,
            "align_items": null,
            "align_self": null,
            "border": null,
            "bottom": null,
            "display": null,
            "flex": null,
            "flex_flow": null,
            "grid_area": null,
            "grid_auto_columns": null,
            "grid_auto_flow": null,
            "grid_auto_rows": null,
            "grid_column": null,
            "grid_gap": null,
            "grid_row": null,
            "grid_template_areas": null,
            "grid_template_columns": null,
            "grid_template_rows": null,
            "height": null,
            "justify_content": null,
            "justify_items": null,
            "left": null,
            "margin": null,
            "max_height": null,
            "max_width": null,
            "min_height": null,
            "min_width": null,
            "object_fit": null,
            "object_position": null,
            "order": null,
            "overflow": null,
            "overflow_x": null,
            "overflow_y": null,
            "padding": null,
            "right": null,
            "top": null,
            "visibility": null,
            "width": null
          }
        },
        "4c8d31ce616f43c1a876f345224109de": {
          "model_module": "@jupyter-widgets/controls",
          "model_name": "DescriptionStyleModel",
          "model_module_version": "1.5.0",
          "state": {
            "_model_module": "@jupyter-widgets/controls",
            "_model_module_version": "1.5.0",
            "_model_name": "DescriptionStyleModel",
            "_view_count": null,
            "_view_module": "@jupyter-widgets/base",
            "_view_module_version": "1.2.0",
            "_view_name": "StyleView",
            "description_width": ""
          }
        },
        "cf32d22d002d474d976e7e0d9552d4fd": {
          "model_module": "@jupyter-widgets/controls",
          "model_name": "HBoxModel",
          "model_module_version": "1.5.0",
          "state": {
            "_dom_classes": [],
            "_model_module": "@jupyter-widgets/controls",
            "_model_module_version": "1.5.0",
            "_model_name": "HBoxModel",
            "_view_count": null,
            "_view_module": "@jupyter-widgets/controls",
            "_view_module_version": "1.5.0",
            "_view_name": "HBoxView",
            "box_style": "",
            "children": [
              "IPY_MODEL_4dacf6cc4a1b4201b75d31658aa429c0",
              "IPY_MODEL_f5c478006f844666b39e3ea45d1659a3",
              "IPY_MODEL_7743390705ef4723a124dddd24538c5a"
            ],
            "layout": "IPY_MODEL_411b1b83c3414aebb0fe6beffe1fb224"
          }
        },
        "4dacf6cc4a1b4201b75d31658aa429c0": {
          "model_module": "@jupyter-widgets/controls",
          "model_name": "HTMLModel",
          "model_module_version": "1.5.0",
          "state": {
            "_dom_classes": [],
            "_model_module": "@jupyter-widgets/controls",
            "_model_module_version": "1.5.0",
            "_model_name": "HTMLModel",
            "_view_count": null,
            "_view_module": "@jupyter-widgets/controls",
            "_view_module_version": "1.5.0",
            "_view_name": "HTMLView",
            "description": "",
            "description_tooltip": null,
            "layout": "IPY_MODEL_b39f4a1cc66b400ea6801e45f443b0af",
            "placeholder": "​",
            "style": "IPY_MODEL_fbb9b74f64e74247a41e24127e80938d",
            "value": "Downloading data: 100%"
          }
        },
        "f5c478006f844666b39e3ea45d1659a3": {
          "model_module": "@jupyter-widgets/controls",
          "model_name": "FloatProgressModel",
          "model_module_version": "1.5.0",
          "state": {
            "_dom_classes": [],
            "_model_module": "@jupyter-widgets/controls",
            "_model_module_version": "1.5.0",
            "_model_name": "FloatProgressModel",
            "_view_count": null,
            "_view_module": "@jupyter-widgets/controls",
            "_view_module_version": "1.5.0",
            "_view_name": "ProgressView",
            "bar_style": "success",
            "description": "",
            "description_tooltip": null,
            "layout": "IPY_MODEL_842b69556c4142cea864c3e26657b64f",
            "max": 36096492,
            "min": 0,
            "orientation": "horizontal",
            "style": "IPY_MODEL_2421e2b9badd4d1e97964ea40e0fd802",
            "value": 36096492
          }
        },
        "7743390705ef4723a124dddd24538c5a": {
          "model_module": "@jupyter-widgets/controls",
          "model_name": "HTMLModel",
          "model_module_version": "1.5.0",
          "state": {
            "_dom_classes": [],
            "_model_module": "@jupyter-widgets/controls",
            "_model_module_version": "1.5.0",
            "_model_name": "HTMLModel",
            "_view_count": null,
            "_view_module": "@jupyter-widgets/controls",
            "_view_module_version": "1.5.0",
            "_view_name": "HTMLView",
            "description": "",
            "description_tooltip": null,
            "layout": "IPY_MODEL_0a9370632d6b495dbcdcd5134d5ddc0c",
            "placeholder": "​",
            "style": "IPY_MODEL_f431c1a6025e4a04a1867520de538704",
            "value": " 36.1M/36.1M [00:02&lt;00:00, 14.8MB/s]"
          }
        },
        "411b1b83c3414aebb0fe6beffe1fb224": {
          "model_module": "@jupyter-widgets/base",
          "model_name": "LayoutModel",
          "model_module_version": "1.2.0",
          "state": {
            "_model_module": "@jupyter-widgets/base",
            "_model_module_version": "1.2.0",
            "_model_name": "LayoutModel",
            "_view_count": null,
            "_view_module": "@jupyter-widgets/base",
            "_view_module_version": "1.2.0",
            "_view_name": "LayoutView",
            "align_content": null,
            "align_items": null,
            "align_self": null,
            "border": null,
            "bottom": null,
            "display": null,
            "flex": null,
            "flex_flow": null,
            "grid_area": null,
            "grid_auto_columns": null,
            "grid_auto_flow": null,
            "grid_auto_rows": null,
            "grid_column": null,
            "grid_gap": null,
            "grid_row": null,
            "grid_template_areas": null,
            "grid_template_columns": null,
            "grid_template_rows": null,
            "height": null,
            "justify_content": null,
            "justify_items": null,
            "left": null,
            "margin": null,
            "max_height": null,
            "max_width": null,
            "min_height": null,
            "min_width": null,
            "object_fit": null,
            "object_position": null,
            "order": null,
            "overflow": null,
            "overflow_x": null,
            "overflow_y": null,
            "padding": null,
            "right": null,
            "top": null,
            "visibility": null,
            "width": null
          }
        },
        "b39f4a1cc66b400ea6801e45f443b0af": {
          "model_module": "@jupyter-widgets/base",
          "model_name": "LayoutModel",
          "model_module_version": "1.2.0",
          "state": {
            "_model_module": "@jupyter-widgets/base",
            "_model_module_version": "1.2.0",
            "_model_name": "LayoutModel",
            "_view_count": null,
            "_view_module": "@jupyter-widgets/base",
            "_view_module_version": "1.2.0",
            "_view_name": "LayoutView",
            "align_content": null,
            "align_items": null,
            "align_self": null,
            "border": null,
            "bottom": null,
            "display": null,
            "flex": null,
            "flex_flow": null,
            "grid_area": null,
            "grid_auto_columns": null,
            "grid_auto_flow": null,
            "grid_auto_rows": null,
            "grid_column": null,
            "grid_gap": null,
            "grid_row": null,
            "grid_template_areas": null,
            "grid_template_columns": null,
            "grid_template_rows": null,
            "height": null,
            "justify_content": null,
            "justify_items": null,
            "left": null,
            "margin": null,
            "max_height": null,
            "max_width": null,
            "min_height": null,
            "min_width": null,
            "object_fit": null,
            "object_position": null,
            "order": null,
            "overflow": null,
            "overflow_x": null,
            "overflow_y": null,
            "padding": null,
            "right": null,
            "top": null,
            "visibility": null,
            "width": null
          }
        },
        "fbb9b74f64e74247a41e24127e80938d": {
          "model_module": "@jupyter-widgets/controls",
          "model_name": "DescriptionStyleModel",
          "model_module_version": "1.5.0",
          "state": {
            "_model_module": "@jupyter-widgets/controls",
            "_model_module_version": "1.5.0",
            "_model_name": "DescriptionStyleModel",
            "_view_count": null,
            "_view_module": "@jupyter-widgets/base",
            "_view_module_version": "1.2.0",
            "_view_name": "StyleView",
            "description_width": ""
          }
        },
        "842b69556c4142cea864c3e26657b64f": {
          "model_module": "@jupyter-widgets/base",
          "model_name": "LayoutModel",
          "model_module_version": "1.2.0",
          "state": {
            "_model_module": "@jupyter-widgets/base",
            "_model_module_version": "1.2.0",
            "_model_name": "LayoutModel",
            "_view_count": null,
            "_view_module": "@jupyter-widgets/base",
            "_view_module_version": "1.2.0",
            "_view_name": "LayoutView",
            "align_content": null,
            "align_items": null,
            "align_self": null,
            "border": null,
            "bottom": null,
            "display": null,
            "flex": null,
            "flex_flow": null,
            "grid_area": null,
            "grid_auto_columns": null,
            "grid_auto_flow": null,
            "grid_auto_rows": null,
            "grid_column": null,
            "grid_gap": null,
            "grid_row": null,
            "grid_template_areas": null,
            "grid_template_columns": null,
            "grid_template_rows": null,
            "height": null,
            "justify_content": null,
            "justify_items": null,
            "left": null,
            "margin": null,
            "max_height": null,
            "max_width": null,
            "min_height": null,
            "min_width": null,
            "object_fit": null,
            "object_position": null,
            "order": null,
            "overflow": null,
            "overflow_x": null,
            "overflow_y": null,
            "padding": null,
            "right": null,
            "top": null,
            "visibility": null,
            "width": null
          }
        },
        "2421e2b9badd4d1e97964ea40e0fd802": {
          "model_module": "@jupyter-widgets/controls",
          "model_name": "ProgressStyleModel",
          "model_module_version": "1.5.0",
          "state": {
            "_model_module": "@jupyter-widgets/controls",
            "_model_module_version": "1.5.0",
            "_model_name": "ProgressStyleModel",
            "_view_count": null,
            "_view_module": "@jupyter-widgets/base",
            "_view_module_version": "1.2.0",
            "_view_name": "StyleView",
            "bar_color": null,
            "description_width": ""
          }
        },
        "0a9370632d6b495dbcdcd5134d5ddc0c": {
          "model_module": "@jupyter-widgets/base",
          "model_name": "LayoutModel",
          "model_module_version": "1.2.0",
          "state": {
            "_model_module": "@jupyter-widgets/base",
            "_model_module_version": "1.2.0",
            "_model_name": "LayoutModel",
            "_view_count": null,
            "_view_module": "@jupyter-widgets/base",
            "_view_module_version": "1.2.0",
            "_view_name": "LayoutView",
            "align_content": null,
            "align_items": null,
            "align_self": null,
            "border": null,
            "bottom": null,
            "display": null,
            "flex": null,
            "flex_flow": null,
            "grid_area": null,
            "grid_auto_columns": null,
            "grid_auto_flow": null,
            "grid_auto_rows": null,
            "grid_column": null,
            "grid_gap": null,
            "grid_row": null,
            "grid_template_areas": null,
            "grid_template_columns": null,
            "grid_template_rows": null,
            "height": null,
            "justify_content": null,
            "justify_items": null,
            "left": null,
            "margin": null,
            "max_height": null,
            "max_width": null,
            "min_height": null,
            "min_width": null,
            "object_fit": null,
            "object_position": null,
            "order": null,
            "overflow": null,
            "overflow_x": null,
            "overflow_y": null,
            "padding": null,
            "right": null,
            "top": null,
            "visibility": null,
            "width": null
          }
        },
        "f431c1a6025e4a04a1867520de538704": {
          "model_module": "@jupyter-widgets/controls",
          "model_name": "DescriptionStyleModel",
          "model_module_version": "1.5.0",
          "state": {
            "_model_module": "@jupyter-widgets/controls",
            "_model_module_version": "1.5.0",
            "_model_name": "DescriptionStyleModel",
            "_view_count": null,
            "_view_module": "@jupyter-widgets/base",
            "_view_module_version": "1.2.0",
            "_view_name": "StyleView",
            "description_width": ""
          }
        },
        "ff1abc68e5ac4fcfad5ff5f42c03f768": {
          "model_module": "@jupyter-widgets/controls",
          "model_name": "HBoxModel",
          "model_module_version": "1.5.0",
          "state": {
            "_dom_classes": [],
            "_model_module": "@jupyter-widgets/controls",
            "_model_module_version": "1.5.0",
            "_model_name": "HBoxModel",
            "_view_count": null,
            "_view_module": "@jupyter-widgets/controls",
            "_view_module_version": "1.5.0",
            "_view_name": "HBoxView",
            "box_style": "",
            "children": [
              "IPY_MODEL_b46c9e54d15f4f91ad8374d0ab69833c",
              "IPY_MODEL_fba092f587824e4da99012a7eda04cea",
              "IPY_MODEL_5eb5a47815c84c00aa72dc6a9b3a4efa"
            ],
            "layout": "IPY_MODEL_e429e87757cb4d8dbf8832fdb3c5ec78"
          }
        },
        "b46c9e54d15f4f91ad8374d0ab69833c": {
          "model_module": "@jupyter-widgets/controls",
          "model_name": "HTMLModel",
          "model_module_version": "1.5.0",
          "state": {
            "_dom_classes": [],
            "_model_module": "@jupyter-widgets/controls",
            "_model_module_version": "1.5.0",
            "_model_name": "HTMLModel",
            "_view_count": null,
            "_view_module": "@jupyter-widgets/controls",
            "_view_module_version": "1.5.0",
            "_view_name": "HTMLView",
            "description": "",
            "description_tooltip": null,
            "layout": "IPY_MODEL_5e94f1fd415d4e0294740adccb90b15c",
            "placeholder": "​",
            "style": "IPY_MODEL_1476bfd300bb440986ba3c67a15bec39",
            "value": "Generating train split: "
          }
        },
        "fba092f587824e4da99012a7eda04cea": {
          "model_module": "@jupyter-widgets/controls",
          "model_name": "FloatProgressModel",
          "model_module_version": "1.5.0",
          "state": {
            "_dom_classes": [],
            "_model_module": "@jupyter-widgets/controls",
            "_model_module_version": "1.5.0",
            "_model_name": "FloatProgressModel",
            "_view_count": null,
            "_view_module": "@jupyter-widgets/controls",
            "_view_module_version": "1.5.0",
            "_view_name": "ProgressView",
            "bar_style": "success",
            "description": "",
            "description_tooltip": null,
            "layout": "IPY_MODEL_330192249dc242b19700ba7c5518d63a",
            "max": 1,
            "min": 0,
            "orientation": "horizontal",
            "style": "IPY_MODEL_0afde4e143824065a68edd7a05fa0b5b",
            "value": 1
          }
        },
        "5eb5a47815c84c00aa72dc6a9b3a4efa": {
          "model_module": "@jupyter-widgets/controls",
          "model_name": "HTMLModel",
          "model_module_version": "1.5.0",
          "state": {
            "_dom_classes": [],
            "_model_module": "@jupyter-widgets/controls",
            "_model_module_version": "1.5.0",
            "_model_name": "HTMLModel",
            "_view_count": null,
            "_view_module": "@jupyter-widgets/controls",
            "_view_module_version": "1.5.0",
            "_view_name": "HTMLView",
            "description": "",
            "description_tooltip": null,
            "layout": "IPY_MODEL_47cdb991522142d8af847d84e0240f91",
            "placeholder": "​",
            "style": "IPY_MODEL_9becbbae29784dfb9db8217201fbc0f4",
            "value": " 2035849/0 [12:07&lt;00:00, 3094.13 examples/s]"
          }
        },
        "e429e87757cb4d8dbf8832fdb3c5ec78": {
          "model_module": "@jupyter-widgets/base",
          "model_name": "LayoutModel",
          "model_module_version": "1.2.0",
          "state": {
            "_model_module": "@jupyter-widgets/base",
            "_model_module_version": "1.2.0",
            "_model_name": "LayoutModel",
            "_view_count": null,
            "_view_module": "@jupyter-widgets/base",
            "_view_module_version": "1.2.0",
            "_view_name": "LayoutView",
            "align_content": null,
            "align_items": null,
            "align_self": null,
            "border": null,
            "bottom": null,
            "display": null,
            "flex": null,
            "flex_flow": null,
            "grid_area": null,
            "grid_auto_columns": null,
            "grid_auto_flow": null,
            "grid_auto_rows": null,
            "grid_column": null,
            "grid_gap": null,
            "grid_row": null,
            "grid_template_areas": null,
            "grid_template_columns": null,
            "grid_template_rows": null,
            "height": null,
            "justify_content": null,
            "justify_items": null,
            "left": null,
            "margin": null,
            "max_height": null,
            "max_width": null,
            "min_height": null,
            "min_width": null,
            "object_fit": null,
            "object_position": null,
            "order": null,
            "overflow": null,
            "overflow_x": null,
            "overflow_y": null,
            "padding": null,
            "right": null,
            "top": null,
            "visibility": null,
            "width": null
          }
        },
        "5e94f1fd415d4e0294740adccb90b15c": {
          "model_module": "@jupyter-widgets/base",
          "model_name": "LayoutModel",
          "model_module_version": "1.2.0",
          "state": {
            "_model_module": "@jupyter-widgets/base",
            "_model_module_version": "1.2.0",
            "_model_name": "LayoutModel",
            "_view_count": null,
            "_view_module": "@jupyter-widgets/base",
            "_view_module_version": "1.2.0",
            "_view_name": "LayoutView",
            "align_content": null,
            "align_items": null,
            "align_self": null,
            "border": null,
            "bottom": null,
            "display": null,
            "flex": null,
            "flex_flow": null,
            "grid_area": null,
            "grid_auto_columns": null,
            "grid_auto_flow": null,
            "grid_auto_rows": null,
            "grid_column": null,
            "grid_gap": null,
            "grid_row": null,
            "grid_template_areas": null,
            "grid_template_columns": null,
            "grid_template_rows": null,
            "height": null,
            "justify_content": null,
            "justify_items": null,
            "left": null,
            "margin": null,
            "max_height": null,
            "max_width": null,
            "min_height": null,
            "min_width": null,
            "object_fit": null,
            "object_position": null,
            "order": null,
            "overflow": null,
            "overflow_x": null,
            "overflow_y": null,
            "padding": null,
            "right": null,
            "top": null,
            "visibility": null,
            "width": null
          }
        },
        "1476bfd300bb440986ba3c67a15bec39": {
          "model_module": "@jupyter-widgets/controls",
          "model_name": "DescriptionStyleModel",
          "model_module_version": "1.5.0",
          "state": {
            "_model_module": "@jupyter-widgets/controls",
            "_model_module_version": "1.5.0",
            "_model_name": "DescriptionStyleModel",
            "_view_count": null,
            "_view_module": "@jupyter-widgets/base",
            "_view_module_version": "1.2.0",
            "_view_name": "StyleView",
            "description_width": ""
          }
        },
        "330192249dc242b19700ba7c5518d63a": {
          "model_module": "@jupyter-widgets/base",
          "model_name": "LayoutModel",
          "model_module_version": "1.2.0",
          "state": {
            "_model_module": "@jupyter-widgets/base",
            "_model_module_version": "1.2.0",
            "_model_name": "LayoutModel",
            "_view_count": null,
            "_view_module": "@jupyter-widgets/base",
            "_view_module_version": "1.2.0",
            "_view_name": "LayoutView",
            "align_content": null,
            "align_items": null,
            "align_self": null,
            "border": null,
            "bottom": null,
            "display": null,
            "flex": null,
            "flex_flow": null,
            "grid_area": null,
            "grid_auto_columns": null,
            "grid_auto_flow": null,
            "grid_auto_rows": null,
            "grid_column": null,
            "grid_gap": null,
            "grid_row": null,
            "grid_template_areas": null,
            "grid_template_columns": null,
            "grid_template_rows": null,
            "height": null,
            "justify_content": null,
            "justify_items": null,
            "left": null,
            "margin": null,
            "max_height": null,
            "max_width": null,
            "min_height": null,
            "min_width": null,
            "object_fit": null,
            "object_position": null,
            "order": null,
            "overflow": null,
            "overflow_x": null,
            "overflow_y": null,
            "padding": null,
            "right": null,
            "top": null,
            "visibility": null,
            "width": "20px"
          }
        },
        "0afde4e143824065a68edd7a05fa0b5b": {
          "model_module": "@jupyter-widgets/controls",
          "model_name": "ProgressStyleModel",
          "model_module_version": "1.5.0",
          "state": {
            "_model_module": "@jupyter-widgets/controls",
            "_model_module_version": "1.5.0",
            "_model_name": "ProgressStyleModel",
            "_view_count": null,
            "_view_module": "@jupyter-widgets/base",
            "_view_module_version": "1.2.0",
            "_view_name": "StyleView",
            "bar_color": null,
            "description_width": ""
          }
        },
        "47cdb991522142d8af847d84e0240f91": {
          "model_module": "@jupyter-widgets/base",
          "model_name": "LayoutModel",
          "model_module_version": "1.2.0",
          "state": {
            "_model_module": "@jupyter-widgets/base",
            "_model_module_version": "1.2.0",
            "_model_name": "LayoutModel",
            "_view_count": null,
            "_view_module": "@jupyter-widgets/base",
            "_view_module_version": "1.2.0",
            "_view_name": "LayoutView",
            "align_content": null,
            "align_items": null,
            "align_self": null,
            "border": null,
            "bottom": null,
            "display": null,
            "flex": null,
            "flex_flow": null,
            "grid_area": null,
            "grid_auto_columns": null,
            "grid_auto_flow": null,
            "grid_auto_rows": null,
            "grid_column": null,
            "grid_gap": null,
            "grid_row": null,
            "grid_template_areas": null,
            "grid_template_columns": null,
            "grid_template_rows": null,
            "height": null,
            "justify_content": null,
            "justify_items": null,
            "left": null,
            "margin": null,
            "max_height": null,
            "max_width": null,
            "min_height": null,
            "min_width": null,
            "object_fit": null,
            "object_position": null,
            "order": null,
            "overflow": null,
            "overflow_x": null,
            "overflow_y": null,
            "padding": null,
            "right": null,
            "top": null,
            "visibility": null,
            "width": null
          }
        },
        "9becbbae29784dfb9db8217201fbc0f4": {
          "model_module": "@jupyter-widgets/controls",
          "model_name": "DescriptionStyleModel",
          "model_module_version": "1.5.0",
          "state": {
            "_model_module": "@jupyter-widgets/controls",
            "_model_module_version": "1.5.0",
            "_model_name": "DescriptionStyleModel",
            "_view_count": null,
            "_view_module": "@jupyter-widgets/base",
            "_view_module_version": "1.2.0",
            "_view_name": "StyleView",
            "description_width": ""
          }
        },
        "6a62a4141251414da6e7bbe1a58fb9bf": {
          "model_module": "@jupyter-widgets/controls",
          "model_name": "HBoxModel",
          "model_module_version": "1.5.0",
          "state": {
            "_dom_classes": [],
            "_model_module": "@jupyter-widgets/controls",
            "_model_module_version": "1.5.0",
            "_model_name": "HBoxModel",
            "_view_count": null,
            "_view_module": "@jupyter-widgets/controls",
            "_view_module_version": "1.5.0",
            "_view_name": "HBoxView",
            "box_style": "",
            "children": [
              "IPY_MODEL_0dad2e0474c448afb8b1f12830fc2109",
              "IPY_MODEL_e10196ca5af74ab983dbdeaf68dc2a12",
              "IPY_MODEL_f9bcda664e93474c96879326b20918b9"
            ],
            "layout": "IPY_MODEL_e4799717a398416383deb62cf00dc299"
          }
        },
        "0dad2e0474c448afb8b1f12830fc2109": {
          "model_module": "@jupyter-widgets/controls",
          "model_name": "HTMLModel",
          "model_module_version": "1.5.0",
          "state": {
            "_dom_classes": [],
            "_model_module": "@jupyter-widgets/controls",
            "_model_module_version": "1.5.0",
            "_model_name": "HTMLModel",
            "_view_count": null,
            "_view_module": "@jupyter-widgets/controls",
            "_view_module_version": "1.5.0",
            "_view_name": "HTMLView",
            "description": "",
            "description_tooltip": null,
            "layout": "IPY_MODEL_6ca0e035bd2f4375a3bce1796e41c1cc",
            "placeholder": "​",
            "style": "IPY_MODEL_2d3c16f1359449e3be84221b4ae6b930",
            "value": "Filter: 100%"
          }
        },
        "e10196ca5af74ab983dbdeaf68dc2a12": {
          "model_module": "@jupyter-widgets/controls",
          "model_name": "FloatProgressModel",
          "model_module_version": "1.5.0",
          "state": {
            "_dom_classes": [],
            "_model_module": "@jupyter-widgets/controls",
            "_model_module_version": "1.5.0",
            "_model_name": "FloatProgressModel",
            "_view_count": null,
            "_view_module": "@jupyter-widgets/controls",
            "_view_module_version": "1.5.0",
            "_view_name": "ProgressView",
            "bar_style": "success",
            "description": "",
            "description_tooltip": null,
            "layout": "IPY_MODEL_b7ad73cdb9e94b8a92916bacc31f6142",
            "max": 2035849,
            "min": 0,
            "orientation": "horizontal",
            "style": "IPY_MODEL_74612905a18c436cae5bc9e4b2284af0",
            "value": 2035849
          }
        },
        "f9bcda664e93474c96879326b20918b9": {
          "model_module": "@jupyter-widgets/controls",
          "model_name": "HTMLModel",
          "model_module_version": "1.5.0",
          "state": {
            "_dom_classes": [],
            "_model_module": "@jupyter-widgets/controls",
            "_model_module_version": "1.5.0",
            "_model_name": "HTMLModel",
            "_view_count": null,
            "_view_module": "@jupyter-widgets/controls",
            "_view_module_version": "1.5.0",
            "_view_name": "HTMLView",
            "description": "",
            "description_tooltip": null,
            "layout": "IPY_MODEL_f0d7bbab076c4b3a9880ac6d8282159c",
            "placeholder": "​",
            "style": "IPY_MODEL_2556af198fba4a55806e47d2ad55b778",
            "value": " 2035849/2035849 [02:16&lt;00:00, 19522.17 examples/s]"
          }
        },
        "e4799717a398416383deb62cf00dc299": {
          "model_module": "@jupyter-widgets/base",
          "model_name": "LayoutModel",
          "model_module_version": "1.2.0",
          "state": {
            "_model_module": "@jupyter-widgets/base",
            "_model_module_version": "1.2.0",
            "_model_name": "LayoutModel",
            "_view_count": null,
            "_view_module": "@jupyter-widgets/base",
            "_view_module_version": "1.2.0",
            "_view_name": "LayoutView",
            "align_content": null,
            "align_items": null,
            "align_self": null,
            "border": null,
            "bottom": null,
            "display": null,
            "flex": null,
            "flex_flow": null,
            "grid_area": null,
            "grid_auto_columns": null,
            "grid_auto_flow": null,
            "grid_auto_rows": null,
            "grid_column": null,
            "grid_gap": null,
            "grid_row": null,
            "grid_template_areas": null,
            "grid_template_columns": null,
            "grid_template_rows": null,
            "height": null,
            "justify_content": null,
            "justify_items": null,
            "left": null,
            "margin": null,
            "max_height": null,
            "max_width": null,
            "min_height": null,
            "min_width": null,
            "object_fit": null,
            "object_position": null,
            "order": null,
            "overflow": null,
            "overflow_x": null,
            "overflow_y": null,
            "padding": null,
            "right": null,
            "top": null,
            "visibility": null,
            "width": null
          }
        },
        "6ca0e035bd2f4375a3bce1796e41c1cc": {
          "model_module": "@jupyter-widgets/base",
          "model_name": "LayoutModel",
          "model_module_version": "1.2.0",
          "state": {
            "_model_module": "@jupyter-widgets/base",
            "_model_module_version": "1.2.0",
            "_model_name": "LayoutModel",
            "_view_count": null,
            "_view_module": "@jupyter-widgets/base",
            "_view_module_version": "1.2.0",
            "_view_name": "LayoutView",
            "align_content": null,
            "align_items": null,
            "align_self": null,
            "border": null,
            "bottom": null,
            "display": null,
            "flex": null,
            "flex_flow": null,
            "grid_area": null,
            "grid_auto_columns": null,
            "grid_auto_flow": null,
            "grid_auto_rows": null,
            "grid_column": null,
            "grid_gap": null,
            "grid_row": null,
            "grid_template_areas": null,
            "grid_template_columns": null,
            "grid_template_rows": null,
            "height": null,
            "justify_content": null,
            "justify_items": null,
            "left": null,
            "margin": null,
            "max_height": null,
            "max_width": null,
            "min_height": null,
            "min_width": null,
            "object_fit": null,
            "object_position": null,
            "order": null,
            "overflow": null,
            "overflow_x": null,
            "overflow_y": null,
            "padding": null,
            "right": null,
            "top": null,
            "visibility": null,
            "width": null
          }
        },
        "2d3c16f1359449e3be84221b4ae6b930": {
          "model_module": "@jupyter-widgets/controls",
          "model_name": "DescriptionStyleModel",
          "model_module_version": "1.5.0",
          "state": {
            "_model_module": "@jupyter-widgets/controls",
            "_model_module_version": "1.5.0",
            "_model_name": "DescriptionStyleModel",
            "_view_count": null,
            "_view_module": "@jupyter-widgets/base",
            "_view_module_version": "1.2.0",
            "_view_name": "StyleView",
            "description_width": ""
          }
        },
        "b7ad73cdb9e94b8a92916bacc31f6142": {
          "model_module": "@jupyter-widgets/base",
          "model_name": "LayoutModel",
          "model_module_version": "1.2.0",
          "state": {
            "_model_module": "@jupyter-widgets/base",
            "_model_module_version": "1.2.0",
            "_model_name": "LayoutModel",
            "_view_count": null,
            "_view_module": "@jupyter-widgets/base",
            "_view_module_version": "1.2.0",
            "_view_name": "LayoutView",
            "align_content": null,
            "align_items": null,
            "align_self": null,
            "border": null,
            "bottom": null,
            "display": null,
            "flex": null,
            "flex_flow": null,
            "grid_area": null,
            "grid_auto_columns": null,
            "grid_auto_flow": null,
            "grid_auto_rows": null,
            "grid_column": null,
            "grid_gap": null,
            "grid_row": null,
            "grid_template_areas": null,
            "grid_template_columns": null,
            "grid_template_rows": null,
            "height": null,
            "justify_content": null,
            "justify_items": null,
            "left": null,
            "margin": null,
            "max_height": null,
            "max_width": null,
            "min_height": null,
            "min_width": null,
            "object_fit": null,
            "object_position": null,
            "order": null,
            "overflow": null,
            "overflow_x": null,
            "overflow_y": null,
            "padding": null,
            "right": null,
            "top": null,
            "visibility": null,
            "width": null
          }
        },
        "74612905a18c436cae5bc9e4b2284af0": {
          "model_module": "@jupyter-widgets/controls",
          "model_name": "ProgressStyleModel",
          "model_module_version": "1.5.0",
          "state": {
            "_model_module": "@jupyter-widgets/controls",
            "_model_module_version": "1.5.0",
            "_model_name": "ProgressStyleModel",
            "_view_count": null,
            "_view_module": "@jupyter-widgets/base",
            "_view_module_version": "1.2.0",
            "_view_name": "StyleView",
            "bar_color": null,
            "description_width": ""
          }
        },
        "f0d7bbab076c4b3a9880ac6d8282159c": {
          "model_module": "@jupyter-widgets/base",
          "model_name": "LayoutModel",
          "model_module_version": "1.2.0",
          "state": {
            "_model_module": "@jupyter-widgets/base",
            "_model_module_version": "1.2.0",
            "_model_name": "LayoutModel",
            "_view_count": null,
            "_view_module": "@jupyter-widgets/base",
            "_view_module_version": "1.2.0",
            "_view_name": "LayoutView",
            "align_content": null,
            "align_items": null,
            "align_self": null,
            "border": null,
            "bottom": null,
            "display": null,
            "flex": null,
            "flex_flow": null,
            "grid_area": null,
            "grid_auto_columns": null,
            "grid_auto_flow": null,
            "grid_auto_rows": null,
            "grid_column": null,
            "grid_gap": null,
            "grid_row": null,
            "grid_template_areas": null,
            "grid_template_columns": null,
            "grid_template_rows": null,
            "height": null,
            "justify_content": null,
            "justify_items": null,
            "left": null,
            "margin": null,
            "max_height": null,
            "max_width": null,
            "min_height": null,
            "min_width": null,
            "object_fit": null,
            "object_position": null,
            "order": null,
            "overflow": null,
            "overflow_x": null,
            "overflow_y": null,
            "padding": null,
            "right": null,
            "top": null,
            "visibility": null,
            "width": null
          }
        },
        "2556af198fba4a55806e47d2ad55b778": {
          "model_module": "@jupyter-widgets/controls",
          "model_name": "DescriptionStyleModel",
          "model_module_version": "1.5.0",
          "state": {
            "_model_module": "@jupyter-widgets/controls",
            "_model_module_version": "1.5.0",
            "_model_name": "DescriptionStyleModel",
            "_view_count": null,
            "_view_module": "@jupyter-widgets/base",
            "_view_module_version": "1.2.0",
            "_view_name": "StyleView",
            "description_width": ""
          }
        }
      }
    }
  },
  "nbformat": 4,
  "nbformat_minor": 0
}